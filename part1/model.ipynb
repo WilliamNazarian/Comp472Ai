{
 "cells": [
  {
   "cell_type": "code",
   "execution_count": null,
   "id": "1a33727e-1744-4aa6-9b40-2733d0b309c7",
   "metadata": {},
   "outputs": [],
   "source": [
    "import torch.nn as nn\n",
    "import torch\n",
    "\n",
    "class Face_Emotion_CNN(nn.Module):\n",
    "  def __init__(self):\n",
    "    super(Face_Emotion_CNN, self).__init__()\n",
    "    self.cnn1 = nn.Conv2d(in_channels=1, out_channels=8, kernel_size=3)\n",
    "    self.cnn2 = nn.Conv2d(in_channels=8, out_channels=16, kernel_size=3)\n",
    "    self.cnn3 = nn.Conv2d(in_channels=16, out_channels=32, kernel_size=3)\n",
    "    self.cnn4 = nn.Conv2d(in_channels=32, out_channels=64, kernel_size=3)\n",
    "    self.cnn5 = nn.Conv2d(in_channels=64, out_channels=128, kernel_size=3)\n",
    "    self.cnn6 = nn.Conv2d(in_channels=128, out_channels=256, kernel_size=3)\n",
    "    self.cnn7 = nn.Conv2d(in_channels=256, out_channels=256, kernel_size=3)\n",
    "    self.relu = nn.ReLU()\n",
    "    self.pool1 = nn.MaxPool2d(2, 1)\n",
    "    self.pool2 = nn.MaxPool2d(2, 2)\n",
    "    self.cnn1_bn = nn.BatchNorm2d(8)\n",
    "    self.cnn2_bn = nn.BatchNorm2d(16)\n",
    "    self.cnn3_bn = nn.BatchNorm2d(32)\n",
    "    self.cnn4_bn = nn.BatchNorm2d(64)\n",
    "    self.cnn5_bn = nn.BatchNorm2d(128)\n",
    "    self.cnn6_bn = nn.BatchNorm2d(256)\n",
    "    self.cnn7_bn = nn.BatchNorm2d(256)\n",
    "    self.fc1 = nn.Linear(1024, 512)\n",
    "    self.fc2 = nn.Linear(512, 256)\n",
    "    self.fc3 = nn.Linear(256, 7)\n",
    "    self.dropout = nn.Dropout(0.3)\n",
    "    self.log_softmax = nn.LogSoftmax(dim=1)\n",
    "    \n",
    "  def forward(self, x):\n",
    "    x = self.relu(self.pool1(self.cnn1_bn(self.cnn1(x))))\n",
    "    x = self.relu(self.pool1(self.cnn2_bn(self.dropout(self.cnn2(x)))))\n",
    "    x = self.relu(self.pool1(self.cnn3_bn(self.cnn3(x))))\n",
    "    x = self.relu(self.pool1(self.cnn4_bn(self.dropout(self.cnn4(x)))))\n",
    "    x = self.relu(self.pool2(self.cnn5_bn(self.cnn5(x))))\n",
    "    x = self.relu(self.pool2(self.cnn6_bn(self.dropout(self.cnn6(x)))))\n",
    "    x = self.relu(self.pool2(self.cnn7_bn(self.dropout(self.cnn7(x)))))\n",
    "    \n",
    "    x = x.view(x.size(0), -1)\n",
    "    \n",
    "    x = self.relu(self.dropout(self.fc1(x)))\n",
    "    x = self.relu(self.dropout(self.fc2(x)))\n",
    "    x = self.log_softmax(self.fc3(x))\n",
    "    return x\n"
   ]
  }
 ],
 "metadata": {
  "kernelspec": {
   "display_name": "Python 3 (ipykernel)",
   "language": "python",
   "name": "python3"
  },
  "language_info": {
   "codemirror_mode": {
    "name": "ipython",
    "version": 3
   },
   "file_extension": ".py",
   "mimetype": "text/x-python",
   "name": "python",
   "nbconvert_exporter": "python",
   "pygments_lexer": "ipython3",
   "version": "3.10.14"
  }
 },
 "nbformat": 4,
 "nbformat_minor": 5
}
