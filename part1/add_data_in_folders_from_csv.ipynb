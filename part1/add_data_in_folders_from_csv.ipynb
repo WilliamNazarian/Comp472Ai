{
 "cells": [
  {
   "cell_type": "code",
   "execution_count": 6,
   "id": "76b2f04c-58fa-41c4-a150-f37991933e91",
   "metadata": {},
   "outputs": [
    {
     "name": "stdout",
     "output_type": "stream",
     "text": [
      "Image reorganization complete.\n"
     ]
    }
   ],
   "source": [
    "import os\n",
    "import shutil\n",
    "import pandas as pd\n",
    "\n",
    "# Define the paths\n",
    "source_folder = 'unstructured_data'\n",
    "destination_folder = 'structured_data'\n",
    "\n",
    "# Create the destination folders if they do not exist\n",
    "os.makedirs(destination_folder, exist_ok=True)\n",
    "\n",
    "# Load the CSV file\n",
    "file_path = 'Combined_Labels_DataFrame.csv'\n",
    "data = pd.read_csv(file_path)\n",
    "\n",
    "# Function to move the images based on the CSV data\n",
    "def move_images(data, source_folder, destination_folder):\n",
    "    for index, row in data.iterrows():\n",
    "        image_path = row['path']\n",
    "        source_path = os.path.join(source_folder, image_path)\n",
    "        destination_path = os.path.join(destination_folder, image_path)\n",
    "        \n",
    "        # Create the destination directory if it doesn't exist\n",
    "        os.makedirs(os.path.dirname(destination_path), exist_ok=True)\n",
    "        \n",
    "        # Move the image\n",
    "        if os.path.exists(source_path):\n",
    "            shutil.move(source_path, destination_path)\n",
    "        else:\n",
    "            print(f\"File not found: {source_path}\")\n",
    "\n",
    "# Move the images\n",
    "move_images(data, source_folder, destination_folder)\n",
    "\n",
    "print(\"Image reorganization complete.\")"
   ]
  },
  {
   "cell_type": "code",
   "execution_count": null,
   "id": "86438b36-f8c1-4452-a04c-dabe070d800a",
   "metadata": {},
   "outputs": [],
   "source": []
  }
 ],
 "metadata": {
  "kernelspec": {
   "display_name": "Python 3 (ipykernel)",
   "language": "python",
   "name": "python3"
  },
  "language_info": {
   "codemirror_mode": {
    "name": "ipython",
    "version": 3
   },
   "file_extension": ".py",
   "mimetype": "text/x-python",
   "name": "python",
   "nbconvert_exporter": "python",
   "pygments_lexer": "ipython3",
   "version": "3.10.14"
  }
 },
 "nbformat": 4,
 "nbformat_minor": 5
}
