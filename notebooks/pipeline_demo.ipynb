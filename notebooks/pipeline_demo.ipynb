{
 "cells": [
  {
   "metadata": {},
   "cell_type": "markdown",
   "source": [
    "The following notebook demonstrates the main steps of the pipeline:\n",
    "1. Setup (Defining the model and parameters)\n",
    "2. Training the model\n",
    "3. Testing the model\n",
    "\n",
    "At its core, the `main.py` module does the exact same thing here with extra steps (for file and user handling)."
   ],
   "id": "69b1ce2bfa5e6c23"
  },
  {
   "metadata": {},
   "cell_type": "markdown",
   "source": [
    "## Setup\n",
    "First, we need to setup the training configuration. This includes defining the training/validation/testing datasets, defining the model, number of epochs, the optimiser/loss function, etc. All these can be neatly packed into a single object called [TrainingConfig](../src/types.py). "
   ],
   "id": "17e3285d96f30c0e"
  },
  {
   "cell_type": "code",
   "id": "initial_id",
   "metadata": {
    "collapsed": true,
    "ExecuteTime": {
     "end_time": "2024-06-17T20:44:18.718387Z",
     "start_time": "2024-06-17T20:44:13.062884Z"
    }
   },
   "source": [
    "import os\n",
    "import sys\n",
    "import logging\n",
    "import pickle\n",
    "import torch\n",
    "import torch.nn as nn\n",
    "import numpy as np\n",
    "\n",
    "import scripts.data_loader as data_loader\n",
    "import src.training as training\n",
    "import src.evaluation as evaluation\n",
    "\n",
    "from dataclasses import dataclass, asdict\n",
    "from src.types import *\n",
    "from src.models.main_model import OB_05Model\n",
    "from src.models.main_model_v1 import OB_05Model_Variant1\n",
    "from src.models.main_model_v2 import OB_05Model_Variant2\n",
    "from scripts.visualization.model_evaluation import TrainingVisualizations, TestingVisualizations\n",
    "\n",
    "\n",
    "output_dir = r\"../output/pipeline_demo/\"\n",
    "if not os.path.exists(output_dir):\n",
    "    os.makedirs(output_dir)\n",
    "\n",
    "\n",
    "# Initialize datasets\n",
    "training_dataset, validation_dataset, testing_dataset = data_loader.split_images_dataset()\n",
    "\n",
    "training_set_loader = data_loader.create_data_loader(training_dataset)\n",
    "validation_set_loader = data_loader.create_data_loader(validation_dataset)\n",
    "testing_set_loader = data_loader.create_data_loader(testing_dataset)"
   ],
   "outputs": [
    {
     "ename": "KeyboardInterrupt",
     "evalue": "",
     "output_type": "error",
     "traceback": [
      "\u001B[1;31m---------------------------------------------------------------------------\u001B[0m",
      "\u001B[1;31mKeyError\u001B[0m                                  Traceback (most recent call last)",
      "File \u001B[1;32m<frozen importlib._bootstrap_external>:1482\u001B[0m, in \u001B[0;36m_path_importer_cache\u001B[1;34m(cls, path)\u001B[0m\n",
      "\u001B[1;31mKeyError\u001B[0m: 'C:\\\\Users\\\\migue\\\\Sandbox\\\\Python\\\\2\\\\Comp472Ai\\\\comp472\\\\Lib\\\\site-packages\\\\matplotlib\\\\projections'",
      "\nDuring handling of the above exception, another exception occurred:\n",
      "\u001B[1;31mKeyboardInterrupt\u001B[0m                         Traceback (most recent call last)",
      "Cell \u001B[1;32mIn[1], line 18\u001B[0m\n\u001B[0;32m     16\u001B[0m \u001B[38;5;28;01mfrom\u001B[39;00m \u001B[38;5;21;01msrc\u001B[39;00m\u001B[38;5;21;01m.\u001B[39;00m\u001B[38;5;21;01mmodels\u001B[39;00m\u001B[38;5;21;01m.\u001B[39;00m\u001B[38;5;21;01mmain_model_v1\u001B[39;00m \u001B[38;5;28;01mimport\u001B[39;00m OB_05Model_Variant1\n\u001B[0;32m     17\u001B[0m \u001B[38;5;28;01mfrom\u001B[39;00m \u001B[38;5;21;01msrc\u001B[39;00m\u001B[38;5;21;01m.\u001B[39;00m\u001B[38;5;21;01mmodels\u001B[39;00m\u001B[38;5;21;01m.\u001B[39;00m\u001B[38;5;21;01mmain_model_v2\u001B[39;00m \u001B[38;5;28;01mimport\u001B[39;00m OB_05Model_Variant2\n\u001B[1;32m---> 18\u001B[0m \u001B[38;5;28;01mfrom\u001B[39;00m \u001B[38;5;21;01mscripts\u001B[39;00m\u001B[38;5;21;01m.\u001B[39;00m\u001B[38;5;21;01mvisualization\u001B[39;00m\u001B[38;5;21;01m.\u001B[39;00m\u001B[38;5;21;01mmodel_evaluation\u001B[39;00m \u001B[38;5;28;01mimport\u001B[39;00m TrainingVisualizations, TestingVisualizations\n\u001B[0;32m     21\u001B[0m output_dir \u001B[38;5;241m=\u001B[39m \u001B[38;5;124mr\u001B[39m\u001B[38;5;124m\"\u001B[39m\u001B[38;5;124m../output/pipeline_demo/\u001B[39m\u001B[38;5;124m\"\u001B[39m\n\u001B[0;32m     22\u001B[0m \u001B[38;5;28;01mif\u001B[39;00m \u001B[38;5;129;01mnot\u001B[39;00m os\u001B[38;5;241m.\u001B[39mpath\u001B[38;5;241m.\u001B[39mexists(output_dir):\n",
      "File \u001B[1;32m~\\Sandbox\\Python\\2\\Comp472Ai\\scripts\\visualization\\model_evaluation.py:4\u001B[0m\n\u001B[0;32m      2\u001B[0m \u001B[38;5;28;01mimport\u001B[39;00m \u001B[38;5;21;01mpandas\u001B[39;00m \u001B[38;5;28;01mas\u001B[39;00m \u001B[38;5;21;01mpd\u001B[39;00m\n\u001B[0;32m      3\u001B[0m \u001B[38;5;28;01mimport\u001B[39;00m \u001B[38;5;21;01mbuiltins\u001B[39;00m\n\u001B[1;32m----> 4\u001B[0m \u001B[38;5;28;01mimport\u001B[39;00m \u001B[38;5;21;01mseaborn\u001B[39;00m \u001B[38;5;28;01mas\u001B[39;00m \u001B[38;5;21;01msns\u001B[39;00m\n\u001B[0;32m      5\u001B[0m \u001B[38;5;28;01mimport\u001B[39;00m \u001B[38;5;21;01mmatplotlib\u001B[39;00m\u001B[38;5;21;01m.\u001B[39;00m\u001B[38;5;21;01mpyplot\u001B[39;00m \u001B[38;5;28;01mas\u001B[39;00m \u001B[38;5;21;01mplt\u001B[39;00m\n\u001B[0;32m      7\u001B[0m \u001B[38;5;28;01mfrom\u001B[39;00m \u001B[38;5;21;01mmatplotlib\u001B[39;00m\u001B[38;5;21;01m.\u001B[39;00m\u001B[38;5;21;01mgridspec\u001B[39;00m \u001B[38;5;28;01mimport\u001B[39;00m GridSpec\n",
      "File \u001B[1;32m~\\Sandbox\\Python\\2\\Comp472Ai\\comp472\\Lib\\site-packages\\seaborn\\__init__.py:2\u001B[0m\n\u001B[0;32m      1\u001B[0m \u001B[38;5;66;03m# Import seaborn objects\u001B[39;00m\n\u001B[1;32m----> 2\u001B[0m \u001B[38;5;28;01mfrom\u001B[39;00m \u001B[38;5;21;01m.\u001B[39;00m\u001B[38;5;21;01mrcmod\u001B[39;00m \u001B[38;5;28;01mimport\u001B[39;00m \u001B[38;5;241m*\u001B[39m  \u001B[38;5;66;03m# noqa: F401,F403\u001B[39;00m\n\u001B[0;32m      3\u001B[0m \u001B[38;5;28;01mfrom\u001B[39;00m \u001B[38;5;21;01m.\u001B[39;00m\u001B[38;5;21;01mutils\u001B[39;00m \u001B[38;5;28;01mimport\u001B[39;00m \u001B[38;5;241m*\u001B[39m  \u001B[38;5;66;03m# noqa: F401,F403\u001B[39;00m\n\u001B[0;32m      4\u001B[0m \u001B[38;5;28;01mfrom\u001B[39;00m \u001B[38;5;21;01m.\u001B[39;00m\u001B[38;5;21;01mpalettes\u001B[39;00m \u001B[38;5;28;01mimport\u001B[39;00m \u001B[38;5;241m*\u001B[39m  \u001B[38;5;66;03m# noqa: F401,F403\u001B[39;00m\n",
      "File \u001B[1;32m~\\Sandbox\\Python\\2\\Comp472Ai\\comp472\\Lib\\site-packages\\seaborn\\rcmod.py:5\u001B[0m\n\u001B[0;32m      3\u001B[0m \u001B[38;5;28;01mimport\u001B[39;00m \u001B[38;5;21;01mmatplotlib\u001B[39;00m \u001B[38;5;28;01mas\u001B[39;00m \u001B[38;5;21;01mmpl\u001B[39;00m\n\u001B[0;32m      4\u001B[0m \u001B[38;5;28;01mfrom\u001B[39;00m \u001B[38;5;21;01mcycler\u001B[39;00m \u001B[38;5;28;01mimport\u001B[39;00m cycler\n\u001B[1;32m----> 5\u001B[0m \u001B[38;5;28;01mfrom\u001B[39;00m \u001B[38;5;21;01m.\u001B[39;00m \u001B[38;5;28;01mimport\u001B[39;00m palettes\n\u001B[0;32m      8\u001B[0m __all__ \u001B[38;5;241m=\u001B[39m [\u001B[38;5;124m\"\u001B[39m\u001B[38;5;124mset_theme\u001B[39m\u001B[38;5;124m\"\u001B[39m, \u001B[38;5;124m\"\u001B[39m\u001B[38;5;124mset\u001B[39m\u001B[38;5;124m\"\u001B[39m, \u001B[38;5;124m\"\u001B[39m\u001B[38;5;124mreset_defaults\u001B[39m\u001B[38;5;124m\"\u001B[39m, \u001B[38;5;124m\"\u001B[39m\u001B[38;5;124mreset_orig\u001B[39m\u001B[38;5;124m\"\u001B[39m,\n\u001B[0;32m      9\u001B[0m            \u001B[38;5;124m\"\u001B[39m\u001B[38;5;124maxes_style\u001B[39m\u001B[38;5;124m\"\u001B[39m, \u001B[38;5;124m\"\u001B[39m\u001B[38;5;124mset_style\u001B[39m\u001B[38;5;124m\"\u001B[39m, \u001B[38;5;124m\"\u001B[39m\u001B[38;5;124mplotting_context\u001B[39m\u001B[38;5;124m\"\u001B[39m, \u001B[38;5;124m\"\u001B[39m\u001B[38;5;124mset_context\u001B[39m\u001B[38;5;124m\"\u001B[39m,\n\u001B[0;32m     10\u001B[0m            \u001B[38;5;124m\"\u001B[39m\u001B[38;5;124mset_palette\u001B[39m\u001B[38;5;124m\"\u001B[39m]\n\u001B[0;32m     13\u001B[0m _style_keys \u001B[38;5;241m=\u001B[39m [\n\u001B[0;32m     14\u001B[0m \n\u001B[0;32m     15\u001B[0m     \u001B[38;5;124m\"\u001B[39m\u001B[38;5;124maxes.facecolor\u001B[39m\u001B[38;5;124m\"\u001B[39m,\n\u001B[1;32m   (...)\u001B[0m\n\u001B[0;32m     50\u001B[0m \n\u001B[0;32m     51\u001B[0m ]\n",
      "File \u001B[1;32m~\\Sandbox\\Python\\2\\Comp472Ai\\comp472\\Lib\\site-packages\\seaborn\\palettes.py:9\u001B[0m\n\u001B[0;32m      5\u001B[0m \u001B[38;5;28;01mimport\u001B[39;00m \u001B[38;5;21;01mmatplotlib\u001B[39;00m \u001B[38;5;28;01mas\u001B[39;00m \u001B[38;5;21;01mmpl\u001B[39;00m\n\u001B[0;32m      7\u001B[0m \u001B[38;5;28;01mfrom\u001B[39;00m \u001B[38;5;21;01m.\u001B[39;00m\u001B[38;5;21;01mexternal\u001B[39;00m \u001B[38;5;28;01mimport\u001B[39;00m husl\n\u001B[1;32m----> 9\u001B[0m \u001B[38;5;28;01mfrom\u001B[39;00m \u001B[38;5;21;01m.\u001B[39;00m\u001B[38;5;21;01mutils\u001B[39;00m \u001B[38;5;28;01mimport\u001B[39;00m desaturate, get_color_cycle\n\u001B[0;32m     10\u001B[0m \u001B[38;5;28;01mfrom\u001B[39;00m \u001B[38;5;21;01m.\u001B[39;00m\u001B[38;5;21;01mcolors\u001B[39;00m \u001B[38;5;28;01mimport\u001B[39;00m xkcd_rgb, crayons\n\u001B[0;32m     11\u001B[0m \u001B[38;5;28;01mfrom\u001B[39;00m \u001B[38;5;21;01m.\u001B[39;00m\u001B[38;5;21;01m_compat\u001B[39;00m \u001B[38;5;28;01mimport\u001B[39;00m get_colormap\n",
      "File \u001B[1;32m~\\Sandbox\\Python\\2\\Comp472Ai\\comp472\\Lib\\site-packages\\seaborn\\utils.py:14\u001B[0m\n\u001B[0;32m     12\u001B[0m \u001B[38;5;28;01mimport\u001B[39;00m \u001B[38;5;21;01mmatplotlib\u001B[39;00m \u001B[38;5;28;01mas\u001B[39;00m \u001B[38;5;21;01mmpl\u001B[39;00m\n\u001B[0;32m     13\u001B[0m \u001B[38;5;28;01mfrom\u001B[39;00m \u001B[38;5;21;01mmatplotlib\u001B[39;00m\u001B[38;5;21;01m.\u001B[39;00m\u001B[38;5;21;01mcolors\u001B[39;00m \u001B[38;5;28;01mimport\u001B[39;00m to_rgb\n\u001B[1;32m---> 14\u001B[0m \u001B[38;5;28;01mimport\u001B[39;00m \u001B[38;5;21;01mmatplotlib\u001B[39;00m\u001B[38;5;21;01m.\u001B[39;00m\u001B[38;5;21;01mpyplot\u001B[39;00m \u001B[38;5;28;01mas\u001B[39;00m \u001B[38;5;21;01mplt\u001B[39;00m\n\u001B[0;32m     15\u001B[0m \u001B[38;5;28;01mfrom\u001B[39;00m \u001B[38;5;21;01mmatplotlib\u001B[39;00m\u001B[38;5;21;01m.\u001B[39;00m\u001B[38;5;21;01mcbook\u001B[39;00m \u001B[38;5;28;01mimport\u001B[39;00m normalize_kwargs\n\u001B[0;32m     17\u001B[0m \u001B[38;5;28;01mfrom\u001B[39;00m \u001B[38;5;21;01mseaborn\u001B[39;00m\u001B[38;5;21;01m.\u001B[39;00m\u001B[38;5;21;01m_core\u001B[39;00m\u001B[38;5;21;01m.\u001B[39;00m\u001B[38;5;21;01mtyping\u001B[39;00m \u001B[38;5;28;01mimport\u001B[39;00m deprecated\n",
      "File \u001B[1;32m~\\Sandbox\\Python\\2\\Comp472Ai\\comp472\\Lib\\site-packages\\matplotlib\\pyplot.py:66\u001B[0m\n\u001B[0;32m     63\u001B[0m \u001B[38;5;28;01mfrom\u001B[39;00m \u001B[38;5;21;01mmatplotlib\u001B[39;00m \u001B[38;5;28;01mimport\u001B[39;00m _docstring\n\u001B[0;32m     64\u001B[0m \u001B[38;5;28;01mfrom\u001B[39;00m \u001B[38;5;21;01mmatplotlib\u001B[39;00m\u001B[38;5;21;01m.\u001B[39;00m\u001B[38;5;21;01mbackend_bases\u001B[39;00m \u001B[38;5;28;01mimport\u001B[39;00m (\n\u001B[0;32m     65\u001B[0m     FigureCanvasBase, FigureManagerBase, MouseButton)\n\u001B[1;32m---> 66\u001B[0m \u001B[38;5;28;01mfrom\u001B[39;00m \u001B[38;5;21;01mmatplotlib\u001B[39;00m\u001B[38;5;21;01m.\u001B[39;00m\u001B[38;5;21;01mfigure\u001B[39;00m \u001B[38;5;28;01mimport\u001B[39;00m Figure, FigureBase, figaspect\n\u001B[0;32m     67\u001B[0m \u001B[38;5;28;01mfrom\u001B[39;00m \u001B[38;5;21;01mmatplotlib\u001B[39;00m\u001B[38;5;21;01m.\u001B[39;00m\u001B[38;5;21;01mgridspec\u001B[39;00m \u001B[38;5;28;01mimport\u001B[39;00m GridSpec, SubplotSpec\n\u001B[0;32m     68\u001B[0m \u001B[38;5;28;01mfrom\u001B[39;00m \u001B[38;5;21;01mmatplotlib\u001B[39;00m \u001B[38;5;28;01mimport\u001B[39;00m rcsetup, rcParamsDefault, rcParamsOrig\n",
      "File \u001B[1;32m~\\Sandbox\\Python\\2\\Comp472Ai\\comp472\\Lib\\site-packages\\matplotlib\\figure.py:40\u001B[0m\n\u001B[0;32m     37\u001B[0m \u001B[38;5;28;01mimport\u001B[39;00m \u001B[38;5;21;01mnumpy\u001B[39;00m \u001B[38;5;28;01mas\u001B[39;00m \u001B[38;5;21;01mnp\u001B[39;00m\n\u001B[0;32m     39\u001B[0m \u001B[38;5;28;01mimport\u001B[39;00m \u001B[38;5;21;01mmatplotlib\u001B[39;00m \u001B[38;5;28;01mas\u001B[39;00m \u001B[38;5;21;01mmpl\u001B[39;00m\n\u001B[1;32m---> 40\u001B[0m \u001B[38;5;28;01mfrom\u001B[39;00m \u001B[38;5;21;01mmatplotlib\u001B[39;00m \u001B[38;5;28;01mimport\u001B[39;00m _blocking_input, backend_bases, _docstring, projections\n\u001B[0;32m     41\u001B[0m \u001B[38;5;28;01mfrom\u001B[39;00m \u001B[38;5;21;01mmatplotlib\u001B[39;00m\u001B[38;5;21;01m.\u001B[39;00m\u001B[38;5;21;01martist\u001B[39;00m \u001B[38;5;28;01mimport\u001B[39;00m (\n\u001B[0;32m     42\u001B[0m     Artist, allow_rasterization, _finalize_rasterization)\n\u001B[0;32m     43\u001B[0m \u001B[38;5;28;01mfrom\u001B[39;00m \u001B[38;5;21;01mmatplotlib\u001B[39;00m\u001B[38;5;21;01m.\u001B[39;00m\u001B[38;5;21;01mbackend_bases\u001B[39;00m \u001B[38;5;28;01mimport\u001B[39;00m (\n\u001B[0;32m     44\u001B[0m     DrawEvent, FigureCanvasBase, NonGuiException, MouseButton, _get_renderer)\n",
      "File \u001B[1;32m~\\Sandbox\\Python\\2\\Comp472Ai\\comp472\\Lib\\site-packages\\matplotlib\\projections\\__init__.py:56\u001B[0m\n\u001B[0;32m      1\u001B[0m \u001B[38;5;124;03m\"\"\"\u001B[39;00m\n\u001B[0;32m      2\u001B[0m \u001B[38;5;124;03mNon-separable transforms that map from data space to screen space.\u001B[39;00m\n\u001B[0;32m      3\u001B[0m \n\u001B[1;32m   (...)\u001B[0m\n\u001B[0;32m     52\u001B[0m \u001B[38;5;124;03m`matplotlib.projections.polar` may also be of interest.\u001B[39;00m\n\u001B[0;32m     53\u001B[0m \u001B[38;5;124;03m\"\"\"\u001B[39;00m\n\u001B[0;32m     55\u001B[0m \u001B[38;5;28;01mfrom\u001B[39;00m \u001B[38;5;21;01m.\u001B[39;00m\u001B[38;5;21;01m.\u001B[39;00m \u001B[38;5;28;01mimport\u001B[39;00m axes, _docstring\n\u001B[1;32m---> 56\u001B[0m \u001B[38;5;28;01mfrom\u001B[39;00m \u001B[38;5;21;01m.\u001B[39;00m\u001B[38;5;21;01mgeo\u001B[39;00m \u001B[38;5;28;01mimport\u001B[39;00m AitoffAxes, HammerAxes, LambertAxes, MollweideAxes\n\u001B[0;32m     57\u001B[0m \u001B[38;5;28;01mfrom\u001B[39;00m \u001B[38;5;21;01m.\u001B[39;00m\u001B[38;5;21;01mpolar\u001B[39;00m \u001B[38;5;28;01mimport\u001B[39;00m PolarAxes\n\u001B[0;32m     59\u001B[0m \u001B[38;5;28;01mtry\u001B[39;00m:\n",
      "File \u001B[1;32m<frozen importlib._bootstrap>:1360\u001B[0m, in \u001B[0;36m_find_and_load\u001B[1;34m(name, import_)\u001B[0m\n",
      "File \u001B[1;32m<frozen importlib._bootstrap>:1322\u001B[0m, in \u001B[0;36m_find_and_load_unlocked\u001B[1;34m(name, import_)\u001B[0m\n",
      "File \u001B[1;32m<frozen importlib._bootstrap>:1262\u001B[0m, in \u001B[0;36m_find_spec\u001B[1;34m(name, path, target)\u001B[0m\n",
      "File \u001B[1;32m<frozen importlib._bootstrap_external>:1525\u001B[0m, in \u001B[0;36mfind_spec\u001B[1;34m(cls, fullname, path, target)\u001B[0m\n",
      "File \u001B[1;32m<frozen importlib._bootstrap_external>:1497\u001B[0m, in \u001B[0;36m_get_spec\u001B[1;34m(cls, fullname, path, target)\u001B[0m\n",
      "File \u001B[1;32m<frozen importlib._bootstrap_external>:1484\u001B[0m, in \u001B[0;36m_path_importer_cache\u001B[1;34m(cls, path)\u001B[0m\n",
      "File \u001B[1;32m<frozen importlib._bootstrap_external>:1460\u001B[0m, in \u001B[0;36m_path_hooks\u001B[1;34m(path)\u001B[0m\n",
      "File \u001B[1;32m<frozen zipimport>:75\u001B[0m, in \u001B[0;36m__init__\u001B[1;34m(self, path)\u001B[0m\n",
      "File \u001B[1;32m<frozen importlib._bootstrap_external>:147\u001B[0m, in \u001B[0;36m_path_stat\u001B[1;34m(path)\u001B[0m\n",
      "\u001B[1;31mKeyboardInterrupt\u001B[0m: "
     ]
    }
   ],
   "execution_count": 1
  },
  {
   "metadata": {},
   "cell_type": "code",
   "source": [
    "# logger for output (we can output training data to stdout or a file for example)\n",
    "logger = logging.getLogger()\n",
    "logger.setLevel(logging.INFO)\n",
    "console_handler = logging.StreamHandler(sys.stdout)\n",
    "logger.addHandler(console_handler)\n",
    "\n",
    "# can pick any model\n",
    "model = OB_05Model()\n",
    "# model = OB_05Model_Variant1()\n",
    "# model = OB_05Model_Variant2()\n",
    "\n",
    "initial_learning_rate = 0.0001\n",
    "criterion = nn.CrossEntropyLoss()\n",
    "optimizer = optim.Adam(model.parameters(), lr=initial_learning_rate, weight_decay=5e-2)\n",
    "scheduler = optim.lr_scheduler.ReduceLROnPlateau(optimizer, 'min', factor=0.1, patience=5)\n",
    "\n",
    "training_config = training.TrainingConfig(\n",
    "    model_name=\"pipeline_demo\",\n",
    "    output_dir=output_dir,\n",
    "    output_logger=logger,\n",
    "\n",
    "    training_set_loader=training_set_loader,\n",
    "    validation_set_loader=validation_set_loader,\n",
    "    testing_set_loader=testing_set_loader,\n",
    "\n",
    "    epochs=10,\n",
    "\n",
    "    classes=data_loader.get_trainset().classes,\n",
    "    model=model,\n",
    "    criterion=criterion,\n",
    "    optimizer=optimizer,\n",
    "    scheduler=scheduler\n",
    ")"
   ],
   "id": "aeb542ed49db37a",
   "outputs": [],
   "execution_count": null
  },
  {
   "metadata": {},
   "cell_type": "markdown",
   "source": "## Training &amp; Visualizations",
   "id": "4da0b57a4df1ae3b"
  },
  {
   "metadata": {},
   "cell_type": "code",
   "source": [
    "training_logger = training.train_model(training_config)\n",
    "\n",
    "# save the training logger -> we can visualize data without having to re-train the model\n",
    "training_logger_path = os.path.join(output_dir, \"training_logger.pkl\")\n",
    "with open(training_logger_path, \"wb\") as file:\n",
    "    pickle.dump(training_logger, file)\n",
    "\n",
    "# save the model so we can test it without having to re-train the model\n",
    "torch.save(model.state_dict(), os.path.join(output_dir, \"model.pth\"))"
   ],
   "id": "8dd6ab2367c67ab1",
   "outputs": [],
   "execution_count": null
  },
  {
   "metadata": {},
   "cell_type": "markdown",
   "source": "Visualization functions are located in the [TrainingVisualizations](../scripts/visualization/model_evaluation.py) script/module.",
   "id": "934d96dc47a8a06c"
  },
  {
   "metadata": {},
   "cell_type": "code",
   "source": "fig = TrainingVisualizations.plot_training_metrics(training_logger)",
   "id": "46bf43e3585503e9",
   "outputs": [],
   "execution_count": null
  },
  {
   "metadata": {},
   "cell_type": "markdown",
   "source": "# Testing & Visualizations",
   "id": "32c574a2a9bd2d9a"
  },
  {
   "metadata": {},
   "cell_type": "code",
   "source": "evaluation_results = evaluation.evaluate_model(logger, model, testing_set_loader)",
   "id": "d201eedd71c2ded0",
   "outputs": [],
   "execution_count": null
  },
  {
   "metadata": {},
   "cell_type": "markdown",
   "source": "Visualization functions are located in the [TestingVisualizations](../scripts/visualization/model_evaluation.py) script/module.\n",
   "id": "52880bb5ddcdb852"
  },
  {
   "metadata": {},
   "cell_type": "code",
   "source": [
    "# Generated confusion matrix from the test set\n",
    "_ = TestingVisualizations.generate_confusion_matrix_table(evaluation_results)"
   ],
   "id": "79b3392c701910d3",
   "outputs": [],
   "execution_count": null
  },
  {
   "metadata": {},
   "cell_type": "code",
   "source": [
    "# Overall metrics table from the test set\n",
    "# Displays macro and micro metrics\n",
    "_ = TestingVisualizations.generate_overall_metrics_table(evaluation_results)"
   ],
   "id": "fe968a15541e5858",
   "outputs": [],
   "execution_count": null
  },
  {
   "metadata": {},
   "cell_type": "code",
   "source": [
    "# Displays the metrics per emotion class AS A TABLE\n",
    "_ = TestingVisualizations.generate_metrics_per_class_table(evaluation_results)"
   ],
   "id": "88b33f5491ff2c27",
   "outputs": [],
   "execution_count": null
  },
  {
   "metadata": {},
   "cell_type": "code",
   "source": [
    "# Displays the metrics per emotion class AS A BAR PLOT\n",
    "_ = TestingVisualizations.plot_metrics_per_class(evaluation_results)"
   ],
   "id": "7b7949f89c289e9f",
   "outputs": [],
   "execution_count": null
  },
  {
   "metadata": {},
   "cell_type": "markdown",
   "source": [
    "## Additional functionalities\n",
    "Metrics are calculated using a confusion table. Since we have 4 classes (angry, engaged, happy, neutral), our confusion matrix is a 4x4 matrix. For information on how metrics are calculated, see [this](https://akash-borgalli.medium.com/confusion-matrix-for-n-x-n-matrix-488e8ff18321) article.\n",
    "\n",
    "The [ConfusionMatrix](../src/utils/confusion_matrix.py) class contains the methods for calculating not only the overall metrics for the model, but the metrics for each individual class. If you want to perform extra processing or visualizations on the `EvaluationResults` objects returned from testing, there are some pre-defined methods that you can use as seen below:"
   ],
   "id": "efd5fa59fdb6a418"
  },
  {
   "metadata": {},
   "cell_type": "code",
   "source": "evaluation_results.get_metrics_per_class_as_df()",
   "id": "4d1135aef36aef65",
   "outputs": [],
   "execution_count": null
  },
  {
   "metadata": {},
   "cell_type": "code",
   "source": "evaluation_results.get_confusion_matrix_as_df()",
   "id": "220f0d9574c2748d",
   "outputs": [],
   "execution_count": null
  },
  {
   "metadata": {},
   "cell_type": "code",
   "source": "evaluation_results.get_metrics_table_as_df()",
   "id": "25fe2f7023b279fa",
   "outputs": [],
   "execution_count": null
  },
  {
   "metadata": {},
   "cell_type": "markdown",
   "source": "You can format the above dataframe into a better visualization as seen below. Note that you can only do this in Jupyter notebooks (can't do it in the console)",
   "id": "303c037713dd117f"
  },
  {
   "metadata": {},
   "cell_type": "code",
   "source": [
    "confusion_matrix = evaluation_results.confusion_matrix\n",
    "\n",
    "macro_precision, macro_recall, macro_f1_score, macro_accuracy = cm_macro.calculate_overall_metrics(confusion_matrix)\n",
    "micro_precision, micro_recall, micro_f1_score, micro_accuracy = cm_micro.calculate_overall_metrics(confusion_matrix)\n",
    "data = [[macro_precision, macro_recall, macro_f1_score, micro_precision, micro_recall, micro_f1_score, (macro_accuracy + micro_accuracy)]]\n",
    "tuples = [(\"macro\", \"precision\"), (\"macro\", \"recall\"), (\"macro\", \"f1_score\"), (\"micro\", \"precision\"), (\"micro\", \"recall\"), (\"micro\", \"f1_score\"), (\"\", \"accuracy\")]\n",
    "\n",
    "df = pd.DataFrame(data, index=pd.Index([\"model\"]), columns=pd.MultiIndex.from_tuples(tuples, names=[\"\", \"metrics\"]))\n",
    "df.style"
   ],
   "id": "8105f988de49c58e",
   "outputs": [],
   "execution_count": null
  },
  {
   "metadata": {},
   "cell_type": "markdown",
   "source": [
    "### Changing the training/testing\n",
    "All models are trained and tested the same way for more accurate comparisons between them. The training portion of the application happens in the [training.py](../src/training.py) module, while the testing/evaluation part happens in the [evaluation.py](../src/evaluation.py) module.\n",
    "\n",
    "### Adding models\n",
    "You can define your own models in the `src/models` directory. You can then train and test these models by placing them in the training config."
   ],
   "id": "a557e08d87b06643"
  },
  {
   "metadata": {},
   "cell_type": "markdown",
   "source": "End",
   "id": "535139b7012a06f9"
  }
 ],
 "metadata": {
  "kernelspec": {
   "display_name": "Python 3",
   "language": "python",
   "name": "python3"
  },
  "language_info": {
   "codemirror_mode": {
    "name": "ipython",
    "version": 2
   },
   "file_extension": ".py",
   "mimetype": "text/x-python",
   "name": "python",
   "nbconvert_exporter": "python",
   "pygments_lexer": "ipython2",
   "version": "2.7.6"
  }
 },
 "nbformat": 4,
 "nbformat_minor": 5
}
