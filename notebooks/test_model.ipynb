{
 "cells": [
  {
   "metadata": {},
   "cell_type": "markdown",
   "source": "# Evaluation/Testing",
   "id": "2df2438a722263e7"
  },
  {
   "metadata": {
    "ExecuteTime": {
     "end_time": "2024-06-11T21:00:51.337109Z",
     "start_time": "2024-06-11T21:00:47.684995Z"
    }
   },
   "cell_type": "code",
   "source": [
    "import pickle\n",
    "import torch\n",
    "import pandas as pd\n",
    "import torch.nn as nn\n",
    "import numpy as np\n",
    "\n",
    "import scripts.data_loader as data_loader\n",
    "import src.training as training\n",
    "import src.evaluation as evaluation\n",
    "\n",
    "from dataclasses import dataclass, asdict\n",
    "from src.types import *\n",
    "from src.models.main_model import OB_05Model\n",
    "\n",
    "\n",
    "cm = ConfusionMatrix\n",
    "cm_macro = ConfusionMatrix.Macro\n",
    "cm_micro = ConfusionMatrix.Micro"
   ],
   "id": "6b0860b9f59e80b8",
   "outputs": [],
   "execution_count": 1
  },
  {
   "metadata": {},
   "cell_type": "markdown",
   "source": "Deserializing/Loading the training logger",
   "id": "1c9d675de59bb2cc"
  },
  {
   "metadata": {
    "ExecuteTime": {
     "end_time": "2024-06-11T21:00:51.344684Z",
     "start_time": "2024-06-11T21:00:51.338127Z"
    }
   },
   "cell_type": "code",
   "source": [
    "with open(\"models/training_logger.pkl\", \"rb\") as file:\n",
    "    training_logger = pickle.load(file)\n",
    "\n",
    "# print(training_logger)"
   ],
   "id": "c3f5adb75cae1126",
   "outputs": [],
   "execution_count": 2
  },
  {
   "metadata": {},
   "cell_type": "markdown",
   "source": "Loading the test dataset then creating a data loader from it",
   "id": "c4d11fd25d815fc4"
  },
  {
   "metadata": {
    "ExecuteTime": {
     "end_time": "2024-06-11T21:00:51.364570Z",
     "start_time": "2024-06-11T21:00:51.347248Z"
    }
   },
   "cell_type": "code",
   "source": [
    "loaded_testing_dataset = torch.load('models/testing_dataset.pth')\n",
    "testing_set_loader = data_loader.create_data_loader(loaded_testing_dataset)\n",
    "\n",
    "print(next(iter(loaded_testing_dataset)))"
   ],
   "id": "cf50f9d9535520b5",
   "outputs": [
    {
     "name": "stdout",
     "output_type": "stream",
     "text": [
      "(tensor([[[-1., -1., -1.,  ..., -1., -1., -1.],\n",
      "         [-1., -1., -1.,  ..., -1., -1., -1.],\n",
      "         [-1., -1., -1.,  ..., -1., -1., -1.],\n",
      "         ...,\n",
      "         [-1., -1., -1.,  ..., -1., -1., -1.],\n",
      "         [-1., -1., -1.,  ..., -1., -1., -1.],\n",
      "         [-1., -1., -1.,  ..., -1., -1., -1.]]]), 2)\n"
     ]
    }
   ],
   "execution_count": 3
  },
  {
   "metadata": {
    "ExecuteTime": {
     "end_time": "2024-06-11T21:01:04.777904Z",
     "start_time": "2024-06-11T21:00:51.365591Z"
    }
   },
   "cell_type": "code",
   "source": [
    "model = OB_05Model()\n",
    "model.load_state_dict(torch.load('models/best_model.pth'))\n",
    "evaluation_result = evaluation.evaluate_model(model, testing_set_loader)"
   ],
   "id": "996d561d2aa004cc",
   "outputs": [],
   "execution_count": 4
  },
  {
   "metadata": {},
   "cell_type": "markdown",
   "source": "#### Macro/Micro metrics",
   "id": "a907883ceb9690b3"
  },
  {
   "metadata": {
    "ExecuteTime": {
     "end_time": "2024-06-11T21:01:04.864882Z",
     "start_time": "2024-06-11T21:01:04.778908Z"
    }
   },
   "cell_type": "code",
   "source": [
    "confusion_matrix = evaluation_result.confusion_matrix\n",
    "\n",
    "macro_precision, macro_recall, macro_f1_score, macro_accuracy = cm_macro.calculate_overall_metrics(confusion_matrix)\n",
    "micro_precision, micro_recall, micro_f1_score, micro_accuracy = cm_micro.calculate_overall_metrics(confusion_matrix)\n",
    "accuracy = (macro_accuracy + micro_accuracy) / 2  # should be the same for both\n",
    "\n",
    "data = [[macro_precision, macro_recall, macro_f1_score, micro_precision, micro_recall, micro_f1_score, accuracy]]\n",
    "tuples = [(\"macro\", \"precision\"), (\"macro\", \"recall\"), (\"macro\", \"f1_score\"), (\"micro\", \"precision\"), (\"micro\", \"recall\"), (\"micro\", \"f1_score\"), (\"\", \"accuracy\")]\n",
    "\n",
    "df = pd.DataFrame(data,\n",
    "                  index=pd.Index([\"model\"]),\n",
    "                  columns=pd.MultiIndex.from_tuples(tuples, names=[\"\", \"metrics\"]))\n",
    "\n",
    "df.style"
   ],
   "id": "5dd06e8014a7c38b",
   "outputs": [
    {
     "data": {
      "text/plain": [
       "<pandas.io.formats.style.Styler at 0x185689da9f0>"
      ],
      "text/html": [
       "<style type=\"text/css\">\n",
       "</style>\n",
       "<table id=\"T_88933\">\n",
       "  <thead>\n",
       "    <tr>\n",
       "      <th class=\"index_name level0\" ></th>\n",
       "      <th id=\"T_88933_level0_col0\" class=\"col_heading level0 col0\" colspan=\"3\">macro</th>\n",
       "      <th id=\"T_88933_level0_col3\" class=\"col_heading level0 col3\" colspan=\"3\">micro</th>\n",
       "      <th id=\"T_88933_level0_col6\" class=\"col_heading level0 col6\" ></th>\n",
       "    </tr>\n",
       "    <tr>\n",
       "      <th class=\"index_name level1\" >metrics</th>\n",
       "      <th id=\"T_88933_level1_col0\" class=\"col_heading level1 col0\" >precision</th>\n",
       "      <th id=\"T_88933_level1_col1\" class=\"col_heading level1 col1\" >recall</th>\n",
       "      <th id=\"T_88933_level1_col2\" class=\"col_heading level1 col2\" >f1_score</th>\n",
       "      <th id=\"T_88933_level1_col3\" class=\"col_heading level1 col3\" >precision</th>\n",
       "      <th id=\"T_88933_level1_col4\" class=\"col_heading level1 col4\" >recall</th>\n",
       "      <th id=\"T_88933_level1_col5\" class=\"col_heading level1 col5\" >f1_score</th>\n",
       "      <th id=\"T_88933_level1_col6\" class=\"col_heading level1 col6\" >accuracy</th>\n",
       "    </tr>\n",
       "  </thead>\n",
       "  <tbody>\n",
       "    <tr>\n",
       "      <th id=\"T_88933_level0_row0\" class=\"row_heading level0 row0\" >model</th>\n",
       "      <td id=\"T_88933_row0_col0\" class=\"data row0 col0\" >0.895650</td>\n",
       "      <td id=\"T_88933_row0_col1\" class=\"data row0 col1\" >0.891773</td>\n",
       "      <td id=\"T_88933_row0_col2\" class=\"data row0 col2\" >0.892333</td>\n",
       "      <td id=\"T_88933_row0_col3\" class=\"data row0 col3\" >0.893678</td>\n",
       "      <td id=\"T_88933_row0_col4\" class=\"data row0 col4\" >0.893678</td>\n",
       "      <td id=\"T_88933_row0_col5\" class=\"data row0 col5\" >0.893678</td>\n",
       "      <td id=\"T_88933_row0_col6\" class=\"data row0 col6\" >0.893678</td>\n",
       "    </tr>\n",
       "  </tbody>\n",
       "</table>\n"
      ]
     },
     "execution_count": 5,
     "metadata": {},
     "output_type": "execute_result"
    }
   ],
   "execution_count": 5
  },
  {
   "metadata": {},
   "cell_type": "markdown",
   "source": "#### Confusion matrix",
   "id": "4d97063dbe81bc49"
  },
  {
   "metadata": {
    "ExecuteTime": {
     "end_time": "2024-06-11T21:01:04.873142Z",
     "start_time": "2024-06-11T21:01:04.864882Z"
    }
   },
   "cell_type": "code",
   "source": [
    "confusion_matrix = evaluation_result.confusion_matrix\n",
    "\n",
    "df = pd.DataFrame(confusion_matrix,\n",
    "                  index=pd.Index([\"anger\", \"engaged\", \"happy\", \"neutral\"]),\n",
    "                  columns=pd.Index([\"anger\", \"engaged\", \"happy\", \"neutral\"]))\n",
    "s = df.style\n",
    "s"
   ],
   "id": "a4363c05c9e7e13b",
   "outputs": [
    {
     "data": {
      "text/plain": [
       "<pandas.io.formats.style.Styler at 0x1857a5efaa0>"
      ],
      "text/html": [
       "<style type=\"text/css\">\n",
       "</style>\n",
       "<table id=\"T_b0c16\">\n",
       "  <thead>\n",
       "    <tr>\n",
       "      <th class=\"blank level0\" >&nbsp;</th>\n",
       "      <th id=\"T_b0c16_level0_col0\" class=\"col_heading level0 col0\" >anger</th>\n",
       "      <th id=\"T_b0c16_level0_col1\" class=\"col_heading level0 col1\" >engaged</th>\n",
       "      <th id=\"T_b0c16_level0_col2\" class=\"col_heading level0 col2\" >happy</th>\n",
       "      <th id=\"T_b0c16_level0_col3\" class=\"col_heading level0 col3\" >neutral</th>\n",
       "    </tr>\n",
       "  </thead>\n",
       "  <tbody>\n",
       "    <tr>\n",
       "      <th id=\"T_b0c16_level0_row0\" class=\"row_heading level0 row0\" >anger</th>\n",
       "      <td id=\"T_b0c16_row0_col0\" class=\"data row0 col0\" >85</td>\n",
       "      <td id=\"T_b0c16_row0_col1\" class=\"data row0 col1\" >8</td>\n",
       "      <td id=\"T_b0c16_row0_col2\" class=\"data row0 col2\" >0</td>\n",
       "      <td id=\"T_b0c16_row0_col3\" class=\"data row0 col3\" >0</td>\n",
       "    </tr>\n",
       "    <tr>\n",
       "      <th id=\"T_b0c16_level0_row1\" class=\"row_heading level0 row1\" >engaged</th>\n",
       "      <td id=\"T_b0c16_row1_col0\" class=\"data row1 col0\" >13</td>\n",
       "      <td id=\"T_b0c16_row1_col1\" class=\"data row1 col1\" >64</td>\n",
       "      <td id=\"T_b0c16_row1_col2\" class=\"data row1 col2\" >1</td>\n",
       "      <td id=\"T_b0c16_row1_col3\" class=\"data row1 col3\" >4</td>\n",
       "    </tr>\n",
       "    <tr>\n",
       "      <th id=\"T_b0c16_level0_row2\" class=\"row_heading level0 row2\" >happy</th>\n",
       "      <td id=\"T_b0c16_row2_col0\" class=\"data row2 col0\" >0</td>\n",
       "      <td id=\"T_b0c16_row2_col1\" class=\"data row2 col1\" >1</td>\n",
       "      <td id=\"T_b0c16_row2_col2\" class=\"data row2 col2\" >79</td>\n",
       "      <td id=\"T_b0c16_row2_col3\" class=\"data row2 col3\" >6</td>\n",
       "    </tr>\n",
       "    <tr>\n",
       "      <th id=\"T_b0c16_level0_row3\" class=\"row_heading level0 row3\" >neutral</th>\n",
       "      <td id=\"T_b0c16_row3_col0\" class=\"data row3 col0\" >2</td>\n",
       "      <td id=\"T_b0c16_row3_col1\" class=\"data row3 col1\" >0</td>\n",
       "      <td id=\"T_b0c16_row3_col2\" class=\"data row3 col2\" >2</td>\n",
       "      <td id=\"T_b0c16_row3_col3\" class=\"data row3 col3\" >83</td>\n",
       "    </tr>\n",
       "  </tbody>\n",
       "</table>\n"
      ]
     },
     "execution_count": 6,
     "metadata": {},
     "output_type": "execute_result"
    }
   ],
   "execution_count": 6
  },
  {
   "metadata": {},
   "cell_type": "markdown",
   "source": "#### Confusion matrix analysis",
   "id": "fe02973e92c07c48"
  },
  {
   "metadata": {
    "ExecuteTime": {
     "end_time": "2024-06-11T21:01:04.887323Z",
     "start_time": "2024-06-11T21:01:04.874267Z"
    }
   },
   "cell_type": "code",
   "source": [
    "confusion_matrix = evaluation_result.confusion_matrix\n",
    "\n",
    "precisions, recalls, f1_scores, accuracies = cm.calculate_per_class_metrics(confusion_matrix)\n",
    "array = [precisions, recalls, f1_scores, accuracies]\n",
    "\n",
    "df = pd.DataFrame(array, \n",
    "                  index=pd.Index([\"precision\", \"recall\", \"f1_score\", \"accuracy\"]),\n",
    "                  columns=pd.Index([\"anger\", \"engaged\", \"happy\", \"neutral\"]))\n",
    "df"
   ],
   "id": "bbcc128a3e0d48d4",
   "outputs": [
    {
     "data": {
      "text/plain": [
       "              anger   engaged     happy   neutral\n",
       "precision  0.850000  0.876712  0.963415  0.892473\n",
       "recall     0.913978  0.780488  0.918605  0.954023\n",
       "f1_score   0.880829  0.825806  0.940476  0.922222\n",
       "accuracy   0.933908  0.922414  0.971264  0.959770"
      ],
      "text/html": [
       "<div>\n",
       "<style scoped>\n",
       "    .dataframe tbody tr th:only-of-type {\n",
       "        vertical-align: middle;\n",
       "    }\n",
       "\n",
       "    .dataframe tbody tr th {\n",
       "        vertical-align: top;\n",
       "    }\n",
       "\n",
       "    .dataframe thead th {\n",
       "        text-align: right;\n",
       "    }\n",
       "</style>\n",
       "<table border=\"1\" class=\"dataframe\">\n",
       "  <thead>\n",
       "    <tr style=\"text-align: right;\">\n",
       "      <th></th>\n",
       "      <th>anger</th>\n",
       "      <th>engaged</th>\n",
       "      <th>happy</th>\n",
       "      <th>neutral</th>\n",
       "    </tr>\n",
       "  </thead>\n",
       "  <tbody>\n",
       "    <tr>\n",
       "      <th>precision</th>\n",
       "      <td>0.850000</td>\n",
       "      <td>0.876712</td>\n",
       "      <td>0.963415</td>\n",
       "      <td>0.892473</td>\n",
       "    </tr>\n",
       "    <tr>\n",
       "      <th>recall</th>\n",
       "      <td>0.913978</td>\n",
       "      <td>0.780488</td>\n",
       "      <td>0.918605</td>\n",
       "      <td>0.954023</td>\n",
       "    </tr>\n",
       "    <tr>\n",
       "      <th>f1_score</th>\n",
       "      <td>0.880829</td>\n",
       "      <td>0.825806</td>\n",
       "      <td>0.940476</td>\n",
       "      <td>0.922222</td>\n",
       "    </tr>\n",
       "    <tr>\n",
       "      <th>accuracy</th>\n",
       "      <td>0.933908</td>\n",
       "      <td>0.922414</td>\n",
       "      <td>0.971264</td>\n",
       "      <td>0.959770</td>\n",
       "    </tr>\n",
       "  </tbody>\n",
       "</table>\n",
       "</div>"
      ]
     },
     "execution_count": 7,
     "metadata": {},
     "output_type": "execute_result"
    }
   ],
   "execution_count": 7
  },
  {
   "metadata": {
    "ExecuteTime": {
     "end_time": "2024-06-11T21:01:04.905201Z",
     "start_time": "2024-06-11T21:01:04.888332Z"
    }
   },
   "cell_type": "code",
   "source": [
    "import seaborn as sns\n",
    "\n",
    "from pipe import *\n",
    "\n",
    "\n",
    "def process_metrics(_data, metric_name):\n",
    "    as_df = pd.DataFrame(_data, columns=[\"score\"])\n",
    "    as_df.insert(0, \"class\", [\"anger\", \"engaged\", \"happy\", \"neutral\"])\n",
    "    as_df.insert(1, \"metric\", metric_name)\n",
    "    # as_df[metric_name] = metric_name\n",
    "    return as_df \n",
    "\n",
    "precisions, recalls, f1_scores, accuracies = cm.calculate_per_class_metrics(confusion_matrix)\n",
    "\n",
    "processed_precisions = process_metrics(precisions, \"precision\")\n",
    "processed_recalls = process_metrics(recalls, \"recall\")\n",
    "processed_f1_scores = process_metrics(f1_scores, \"f1_score\")\n",
    "processed_accuracies = process_metrics(accuracies, \"accuracy\")\n",
    "\n",
    "df = pd.concat([processed_precisions, processed_recalls, processed_f1_scores, processed_accuracies])\n",
    "df"
   ],
   "id": "a6251ef8e555da56",
   "outputs": [
    {
     "data": {
      "text/plain": [
       "     class     metric     score\n",
       "0    anger  precision  0.850000\n",
       "1  engaged  precision  0.876712\n",
       "2    happy  precision  0.963415\n",
       "3  neutral  precision  0.892473\n",
       "0    anger     recall  0.913978\n",
       "1  engaged     recall  0.780488\n",
       "2    happy     recall  0.918605\n",
       "3  neutral     recall  0.954023\n",
       "0    anger   f1_score  0.880829\n",
       "1  engaged   f1_score  0.825806\n",
       "2    happy   f1_score  0.940476\n",
       "3  neutral   f1_score  0.922222\n",
       "0    anger   accuracy  0.933908\n",
       "1  engaged   accuracy  0.922414\n",
       "2    happy   accuracy  0.971264\n",
       "3  neutral   accuracy  0.959770"
      ],
      "text/html": [
       "<div>\n",
       "<style scoped>\n",
       "    .dataframe tbody tr th:only-of-type {\n",
       "        vertical-align: middle;\n",
       "    }\n",
       "\n",
       "    .dataframe tbody tr th {\n",
       "        vertical-align: top;\n",
       "    }\n",
       "\n",
       "    .dataframe thead th {\n",
       "        text-align: right;\n",
       "    }\n",
       "</style>\n",
       "<table border=\"1\" class=\"dataframe\">\n",
       "  <thead>\n",
       "    <tr style=\"text-align: right;\">\n",
       "      <th></th>\n",
       "      <th>class</th>\n",
       "      <th>metric</th>\n",
       "      <th>score</th>\n",
       "    </tr>\n",
       "  </thead>\n",
       "  <tbody>\n",
       "    <tr>\n",
       "      <th>0</th>\n",
       "      <td>anger</td>\n",
       "      <td>precision</td>\n",
       "      <td>0.850000</td>\n",
       "    </tr>\n",
       "    <tr>\n",
       "      <th>1</th>\n",
       "      <td>engaged</td>\n",
       "      <td>precision</td>\n",
       "      <td>0.876712</td>\n",
       "    </tr>\n",
       "    <tr>\n",
       "      <th>2</th>\n",
       "      <td>happy</td>\n",
       "      <td>precision</td>\n",
       "      <td>0.963415</td>\n",
       "    </tr>\n",
       "    <tr>\n",
       "      <th>3</th>\n",
       "      <td>neutral</td>\n",
       "      <td>precision</td>\n",
       "      <td>0.892473</td>\n",
       "    </tr>\n",
       "    <tr>\n",
       "      <th>0</th>\n",
       "      <td>anger</td>\n",
       "      <td>recall</td>\n",
       "      <td>0.913978</td>\n",
       "    </tr>\n",
       "    <tr>\n",
       "      <th>1</th>\n",
       "      <td>engaged</td>\n",
       "      <td>recall</td>\n",
       "      <td>0.780488</td>\n",
       "    </tr>\n",
       "    <tr>\n",
       "      <th>2</th>\n",
       "      <td>happy</td>\n",
       "      <td>recall</td>\n",
       "      <td>0.918605</td>\n",
       "    </tr>\n",
       "    <tr>\n",
       "      <th>3</th>\n",
       "      <td>neutral</td>\n",
       "      <td>recall</td>\n",
       "      <td>0.954023</td>\n",
       "    </tr>\n",
       "    <tr>\n",
       "      <th>0</th>\n",
       "      <td>anger</td>\n",
       "      <td>f1_score</td>\n",
       "      <td>0.880829</td>\n",
       "    </tr>\n",
       "    <tr>\n",
       "      <th>1</th>\n",
       "      <td>engaged</td>\n",
       "      <td>f1_score</td>\n",
       "      <td>0.825806</td>\n",
       "    </tr>\n",
       "    <tr>\n",
       "      <th>2</th>\n",
       "      <td>happy</td>\n",
       "      <td>f1_score</td>\n",
       "      <td>0.940476</td>\n",
       "    </tr>\n",
       "    <tr>\n",
       "      <th>3</th>\n",
       "      <td>neutral</td>\n",
       "      <td>f1_score</td>\n",
       "      <td>0.922222</td>\n",
       "    </tr>\n",
       "    <tr>\n",
       "      <th>0</th>\n",
       "      <td>anger</td>\n",
       "      <td>accuracy</td>\n",
       "      <td>0.933908</td>\n",
       "    </tr>\n",
       "    <tr>\n",
       "      <th>1</th>\n",
       "      <td>engaged</td>\n",
       "      <td>accuracy</td>\n",
       "      <td>0.922414</td>\n",
       "    </tr>\n",
       "    <tr>\n",
       "      <th>2</th>\n",
       "      <td>happy</td>\n",
       "      <td>accuracy</td>\n",
       "      <td>0.971264</td>\n",
       "    </tr>\n",
       "    <tr>\n",
       "      <th>3</th>\n",
       "      <td>neutral</td>\n",
       "      <td>accuracy</td>\n",
       "      <td>0.959770</td>\n",
       "    </tr>\n",
       "  </tbody>\n",
       "</table>\n",
       "</div>"
      ]
     },
     "execution_count": 8,
     "metadata": {},
     "output_type": "execute_result"
    }
   ],
   "execution_count": 8
  },
  {
   "metadata": {
    "ExecuteTime": {
     "end_time": "2024-06-11T21:01:05.329725Z",
     "start_time": "2024-06-11T21:01:04.907248Z"
    }
   },
   "cell_type": "code",
   "source": [
    "g = sns.catplot(df, kind=\"bar\", x=\"class\", y=\"score\", hue=\"metric\",\n",
    "                errorbar=\"sd\", alpha=0.6, height=6)\n",
    "g.despine(left=True, bottom=True)\n",
    "g.legend.set_title(\"metric\")"
   ],
   "id": "685762f45f51b3ed",
   "outputs": [
    {
     "data": {
      "text/plain": [
       "<Figure size 705.5x600 with 1 Axes>"
      ],
      "image/png": "[encoded data removed]"
     },
     "metadata": {},
     "output_type": "display_data"
    }
   ],
   "execution_count": 9
  },
  {
   "metadata": {},
   "cell_type": "code",
   "source": "",
   "id": "8c5cb348e07662aa",
   "outputs": [],
   "execution_count": null
  }
 ],
 "metadata": {
  "kernelspec": {
   "display_name": "Python 3",
   "language": "python",
   "name": "python3"
  },
  "language_info": {
   "codemirror_mode": {
    "name": "ipython",
    "version": 2
   },
   "file_extension": ".py",
   "mimetype": "text/x-python",
   "name": "python",
   "nbconvert_exporter": "python",
   "pygments_lexer": "ipython2",
   "version": "2.7.6"
  }
 },
 "nbformat": 4,
 "nbformat_minor": 5
}
