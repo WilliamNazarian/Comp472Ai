{
 "cells": [
  {
   "metadata": {},
   "cell_type": "markdown",
   "source": "# Evaluation/Testing",
   "id": "2df2438a722263e7"
  },
  {
   "metadata": {},
   "cell_type": "code",
   "source": [
    "import pickle\n",
    "import torch\n",
    "import pandas as pd\n",
    "import torch.nn as nn\n",
    "import numpy as np\n",
    "\n",
    "import scripts.data_loader as data_loader\n",
    "import scripts.model.training as training\n",
    "import scripts.model.evaluation as evaluation\n",
    "\n",
    "from dataclasses import dataclass, asdict\n",
    "from scripts.model.types import * \n",
    "from models.model1 import OB_05Model\n",
    "\n",
    "\n",
    "cm = ConfusionMatrx\n",
    "cm_macro = ConfusionMatrx.Macro\n",
    "cm_micro = ConfusionMatrx.Micro\n",
    "\n",
    "\n",
    "with open(\"models/training_logger.pkl\", \"rb\") as file:\n",
    "    training_logger = pickle.load(file)\n",
    "\n",
    "print(training_logger)"
   ],
   "id": "6b0860b9f59e80b8",
   "outputs": [],
   "execution_count": null
  },
  {
   "metadata": {},
   "cell_type": "code",
   "source": [
    "loaded_testing_dataset = torch.load('models/testing_dataset.pth')\n",
    "testing_set_loader = data_loader.create_data_loader(loaded_testing_dataset)\n",
    "\n",
    "print(next(iter(loaded_testing_dataset)))"
   ],
   "id": "cf50f9d9535520b5",
   "outputs": [],
   "execution_count": null
  },
  {
   "metadata": {},
   "cell_type": "code",
   "source": [
    "model = OB_05Model()\n",
    "model.load_state_dict(torch.load('models/model.pth'))\n",
    "evaluation_result = evaluation.evaluate_model(model, testing_set_loader)"
   ],
   "id": "996d561d2aa004cc",
   "outputs": [],
   "execution_count": null
  },
  {
   "metadata": {},
   "cell_type": "markdown",
   "source": "#### Macro/Micro metrics",
   "id": "a907883ceb9690b3"
  },
  {
   "metadata": {},
   "cell_type": "code",
   "source": [
    "confusion_matrix = evaluation_result.confusion_matrix\n",
    "\n",
    "macro_precision, macro_recall, macro_f1_score, macro_accuracy = cm_macro.calculate_overall_metrics(confusion_matrix)\n",
    "micro_precision, micro_recall, micro_f1_score, micro_accuracy = cm_micro.calculate_overall_metrics(confusion_matrix)\n",
    "accuracy = (macro_accuracy + micro_accuracy) / 2  # should be the same for both\n",
    "\n",
    "data = [[macro_precision, macro_recall, macro_f1_score, micro_precision, micro_recall, micro_f1_score, accuracy]]\n",
    "tuples = [(\"macro\", \"precision\"), (\"macro\", \"recall\"), (\"macro\", \"f1_score\"), (\"micro\", \"precision\"), (\"micro\", \"recall\"), (\"micro\", \"f1_score\"), (\"\", \"accuracy\")]\n",
    "\n",
    "df = pd.DataFrame(data,\n",
    "                  index=pd.Index([\"model\"]),\n",
    "                  columns=pd.MultiIndex.from_tuples(tuples, names=[\"\", \"metrics\"]))\n",
    "s = df.style\n",
    "\n",
    "s"
   ],
   "id": "5dd06e8014a7c38b",
   "outputs": [],
   "execution_count": null
  },
  {
   "metadata": {},
   "cell_type": "markdown",
   "source": "#### Confusion matrix",
   "id": "4d97063dbe81bc49"
  },
  {
   "metadata": {},
   "cell_type": "code",
   "source": [
    "confusion_matrix = evaluation_result.confusion_matrix\n",
    "\n",
    "df = pd.DataFrame(confusion_matrix,\n",
    "                  index=pd.Index([\"anger\", \"engaged\", \"happy\", \"neutral\"]),\n",
    "                  columns=pd.Index([\"anger\", \"engaged\", \"happy\", \"neutral\"]))\n",
    "s = df.style\n",
    "s"
   ],
   "id": "a4363c05c9e7e13b",
   "outputs": [],
   "execution_count": null
  },
  {
   "metadata": {},
   "cell_type": "markdown",
   "source": "#### Confusion matrix analysis",
   "id": "fe02973e92c07c48"
  },
  {
   "metadata": {},
   "cell_type": "code",
   "source": [
    "confusion_matrix = evaluation_result.confusion_matrix\n",
    "\n",
    "precisions, recalls, f1_scores, accuracies = cm.calculate_per_class_metrics(confusion_matrix)\n",
    "array = [precisions, recalls, f1_scores, accuracies]\n",
    "\n",
    "df = pd.DataFrame(array, \n",
    "                  index=pd.Index([\"precision\", \"recall\", \"f1_score\", \"accuracy\"]),\n",
    "                  columns=pd.Index([\"anger\", \"engaged\", \"happy\", \"neutral\"]))\n",
    "df"
   ],
   "id": "bbcc128a3e0d48d4",
   "outputs": [],
   "execution_count": null
  },
  {
   "metadata": {
    "ExecuteTime": {
     "end_time": "2024-06-11T16:42:28.981249Z",
     "start_time": "2024-06-11T16:42:28.963643Z"
    }
   },
   "cell_type": "code",
   "source": [
    "import seaborn as sns\n",
    "\n",
    "from pipe import *\n",
    "\n",
    "\n",
    "def process_metrics(_data, metric_name):\n",
    "    as_df = pd.DataFrame(_data, columns=[\"score\"])\n",
    "    as_df.insert(0, \"class\", [\"anger\", \"engaged\", \"happy\", \"neutral\"])\n",
    "    as_df.insert(1, \"metric\", metric_name)\n",
    "    # as_df[metric_name] = metric_name\n",
    "    return as_df \n",
    "\n",
    "precisions, recalls, f1_scores, accuracies = cm.calculate_per_class_metrics(confusion_matrix)\n",
    "\n",
    "processed_precisions = process_metrics(precisions, \"precision\")\n",
    "processed_recalls = process_metrics(recalls, \"recall\")\n",
    "processed_f1_scores = process_metrics(f1_scores, \"f1_score\")\n",
    "processed_accuracies = process_metrics(accuracies, \"accuracy\")\n",
    "\n",
    "df = pd.concat([processed_precisions, processed_recalls, processed_f1_scores, processed_accuracies])\n",
    "df"
   ],
   "id": "a6251ef8e555da56",
   "outputs": [
    {
     "data": {
      "text/plain": [
       "     class     metric     score\n",
       "0    anger  precision  0.739130\n",
       "1  engaged  precision  0.702703\n",
       "2    happy  precision  0.839506\n",
       "3  neutral  precision  0.831683\n",
       "0    anger     recall  0.781609\n",
       "1  engaged     recall  0.650000\n",
       "2    happy     recall  0.839506\n",
       "3  neutral     recall  0.840000\n",
       "0    anger   f1_score  0.759777\n",
       "1  engaged   f1_score  0.675325\n",
       "2    happy   f1_score  0.839506\n",
       "3  neutral   f1_score  0.835821\n",
       "0    anger   accuracy  0.876437\n",
       "1  engaged   accuracy  0.856322\n",
       "2    happy   accuracy  0.925287\n",
       "3  neutral   accuracy  0.905172"
      ],
      "text/html": [
       "<div>\n",
       "<style scoped>\n",
       "    .dataframe tbody tr th:only-of-type {\n",
       "        vertical-align: middle;\n",
       "    }\n",
       "\n",
       "    .dataframe tbody tr th {\n",
       "        vertical-align: top;\n",
       "    }\n",
       "\n",
       "    .dataframe thead th {\n",
       "        text-align: right;\n",
       "    }\n",
       "</style>\n",
       "<table border=\"1\" class=\"dataframe\">\n",
       "  <thead>\n",
       "    <tr style=\"text-align: right;\">\n",
       "      <th></th>\n",
       "      <th>class</th>\n",
       "      <th>metric</th>\n",
       "      <th>score</th>\n",
       "    </tr>\n",
       "  </thead>\n",
       "  <tbody>\n",
       "    <tr>\n",
       "      <th>0</th>\n",
       "      <td>anger</td>\n",
       "      <td>precision</td>\n",
       "      <td>0.739130</td>\n",
       "    </tr>\n",
       "    <tr>\n",
       "      <th>1</th>\n",
       "      <td>engaged</td>\n",
       "      <td>precision</td>\n",
       "      <td>0.702703</td>\n",
       "    </tr>\n",
       "    <tr>\n",
       "      <th>2</th>\n",
       "      <td>happy</td>\n",
       "      <td>precision</td>\n",
       "      <td>0.839506</td>\n",
       "    </tr>\n",
       "    <tr>\n",
       "      <th>3</th>\n",
       "      <td>neutral</td>\n",
       "      <td>precision</td>\n",
       "      <td>0.831683</td>\n",
       "    </tr>\n",
       "    <tr>\n",
       "      <th>0</th>\n",
       "      <td>anger</td>\n",
       "      <td>recall</td>\n",
       "      <td>0.781609</td>\n",
       "    </tr>\n",
       "    <tr>\n",
       "      <th>1</th>\n",
       "      <td>engaged</td>\n",
       "      <td>recall</td>\n",
       "      <td>0.650000</td>\n",
       "    </tr>\n",
       "    <tr>\n",
       "      <th>2</th>\n",
       "      <td>happy</td>\n",
       "      <td>recall</td>\n",
       "      <td>0.839506</td>\n",
       "    </tr>\n",
       "    <tr>\n",
       "      <th>3</th>\n",
       "      <td>neutral</td>\n",
       "      <td>recall</td>\n",
       "      <td>0.840000</td>\n",
       "    </tr>\n",
       "    <tr>\n",
       "      <th>0</th>\n",
       "      <td>anger</td>\n",
       "      <td>f1_score</td>\n",
       "      <td>0.759777</td>\n",
       "    </tr>\n",
       "    <tr>\n",
       "      <th>1</th>\n",
       "      <td>engaged</td>\n",
       "      <td>f1_score</td>\n",
       "      <td>0.675325</td>\n",
       "    </tr>\n",
       "    <tr>\n",
       "      <th>2</th>\n",
       "      <td>happy</td>\n",
       "      <td>f1_score</td>\n",
       "      <td>0.839506</td>\n",
       "    </tr>\n",
       "    <tr>\n",
       "      <th>3</th>\n",
       "      <td>neutral</td>\n",
       "      <td>f1_score</td>\n",
       "      <td>0.835821</td>\n",
       "    </tr>\n",
       "    <tr>\n",
       "      <th>0</th>\n",
       "      <td>anger</td>\n",
       "      <td>accuracy</td>\n",
       "      <td>0.876437</td>\n",
       "    </tr>\n",
       "    <tr>\n",
       "      <th>1</th>\n",
       "      <td>engaged</td>\n",
       "      <td>accuracy</td>\n",
       "      <td>0.856322</td>\n",
       "    </tr>\n",
       "    <tr>\n",
       "      <th>2</th>\n",
       "      <td>happy</td>\n",
       "      <td>accuracy</td>\n",
       "      <td>0.925287</td>\n",
       "    </tr>\n",
       "    <tr>\n",
       "      <th>3</th>\n",
       "      <td>neutral</td>\n",
       "      <td>accuracy</td>\n",
       "      <td>0.905172</td>\n",
       "    </tr>\n",
       "  </tbody>\n",
       "</table>\n",
       "</div>"
      ]
     },
     "execution_count": 44,
     "metadata": {},
     "output_type": "execute_result"
    }
   ],
   "execution_count": 44
  },
  {
   "metadata": {
    "ExecuteTime": {
     "end_time": "2024-06-11T16:42:29.675929Z",
     "start_time": "2024-06-11T16:42:29.167936Z"
    }
   },
   "cell_type": "code",
   "source": [
    "g = sns.catplot(df, kind=\"bar\", x=\"class\", y=\"score\", hue=\"metric\",\n",
    "                errorbar=\"sd\", alpha=0.6, height=6)\n",
    "g.despine(left=True, bottom=True)\n",
    "g.legend.set_title(\"metric\")"
   ],
   "id": "685762f45f51b3ed",
   "outputs": [
    {
     "data": {
      "text/plain": [
       "<Figure size 705.5x600 with 1 Axes>"
      ],
      "image/png": "[encoded data removed]"
     },
     "metadata": {},
     "output_type": "display_data"
    }
   ],
   "execution_count": 45
  },
  {
   "metadata": {},
   "cell_type": "code",
   "outputs": [],
   "execution_count": null,
   "source": "",
   "id": "8c5cb348e07662aa"
  }
 ],
 "metadata": {
  "kernelspec": {
   "display_name": "Python 3",
   "language": "python",
   "name": "python3"
  },
  "language_info": {
   "codemirror_mode": {
    "name": "ipython",
    "version": 2
   },
   "file_extension": ".py",
   "mimetype": "text/x-python",
   "name": "python",
   "nbconvert_exporter": "python",
   "pygments_lexer": "ipython2",
   "version": "2.7.6"
  }
 },
 "nbformat": 4,
 "nbformat_minor": 5
}
