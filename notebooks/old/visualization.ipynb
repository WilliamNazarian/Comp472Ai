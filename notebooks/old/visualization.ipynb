{
 "cells": [
  {
   "metadata": {},
   "cell_type": "markdown",
   "source": "### Imports",
   "id": "570750507ea6ed69"
  },
  {
   "metadata": {},
   "cell_type": "code",
   "source": [
    "import pickle\n",
    "from scripts.visualization.model_evaluation import TrainingVisualizations\n",
    "\n",
    "\n",
    "with open(\"models/training_logger.pkl\", \"rb\") as file:\n",
    "    training_logger = pickle.load(file)\n",
    "\n",
    "# training_logger"
   ],
   "id": "e86570eb44dc9a8",
   "outputs": [],
   "execution_count": null
  },
  {
   "metadata": {},
   "cell_type": "code",
   "source": [
    "fig = TrainingVisualizations.plot_training_metrics(training_logger)\n",
    "fig"
   ],
   "id": "1d6a87393b9d6d6d",
   "outputs": [],
   "execution_count": null
  },
  {
   "metadata": {},
   "cell_type": "code",
   "source": "",
   "id": "f7deca315381d7e",
   "outputs": [],
   "execution_count": null
  }
 ],
 "metadata": {
  "kernelspec": {
   "display_name": "Python 3",
   "language": "python",
   "name": "python3"
  },
  "language_info": {
   "codemirror_mode": {
    "name": "ipython",
    "version": 2
   },
   "file_extension": ".py",
   "mimetype": "text/x-python",
   "name": "python",
   "nbconvert_exporter": "python",
   "pygments_lexer": "ipython2",
   "version": "2.7.6"
  }
 },
 "nbformat": 4,
 "nbformat_minor": 5
}
