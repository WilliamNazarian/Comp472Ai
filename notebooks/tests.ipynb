{
 "cells": [
  {
   "cell_type": "code",
   "id": "initial_id",
   "metadata": {
    "collapsed": true,
    "ExecuteTime": {
     "end_time": "2024-06-09T20:25:45.143940Z",
     "start_time": "2024-06-09T20:25:38.638848Z"
    }
   },
   "source": [
    "import torch\n",
    "import torch.nn as nn\n",
    "import torch.nn.functional as F\n",
    "import torchvision.transforms as transforms\n",
    "import torch.cuda as cuda\n",
    "import torchvision.datasets as datasets\n",
    "from torch.utils.data import DataLoader\n",
    "import matplotlib.pyplot as plt\n",
    "import numpy as np\n",
    "import torch.optim as optim\n",
    "from torch.autograd import Variable\n",
    "from torch.utils.data import DataLoader, random_split"
   ],
   "outputs": [],
   "execution_count": 1
  },
  {
   "metadata": {
    "ExecuteTime": {
     "end_time": "2024-06-09T20:25:45.752770Z",
     "start_time": "2024-06-09T20:25:45.144946Z"
    }
   },
   "cell_type": "code",
   "source": [
    "import scripts.data_loader as data_loader\n",
    "import scripts.model.train_model as train_model\n",
    "\n",
    "from models.model1 import OB_05Model\n"
   ],
   "id": "18b1a24f112ba28e",
   "outputs": [],
   "execution_count": 2
  },
  {
   "metadata": {
    "ExecuteTime": {
     "end_time": "2024-06-09T20:25:45.881075Z",
     "start_time": "2024-06-09T20:25:45.753776Z"
    }
   },
   "cell_type": "code",
   "source": [
    "training_set_loader, validation_set_loader, testing_set_loader = data_loader.split_images_dataset()\n",
    "\n",
    "learning_rate = 0.001\n",
    "model = OB_05Model()\n",
    "criterion = nn.CrossEntropyLoss()\n",
    "optimizer = torch.optim.Adam(model.parameters(), lr=learning_rate)\n",
    "\n",
    "training_config = train_model.TrainingConfig(\n",
    "    training_set_loader=training_set_loader,\n",
    "    validation_set_loader=validation_set_loader,\n",
    "    testing_set_loader=testing_set_loader,\n",
    "    \n",
    "    epochs=100,\n",
    "    learning_rate=learning_rate,\n",
    "    \n",
    "    classes=data_loader.get_trainset().classes,\n",
    "    model=model,\n",
    "    criterion=criterion,\n",
    "    optimizer=optimizer\n",
    ")"
   ],
   "id": "f1797530dca4d0b7",
   "outputs": [],
   "execution_count": 3
  },
  {
   "metadata": {
    "ExecuteTime": {
     "end_time": "2024-06-09T20:25:57.992076Z",
     "start_time": "2024-06-09T20:25:57.780449Z"
    }
   },
   "cell_type": "code",
   "source": "train_model.(training_config)",
   "id": "1c623c5fb0744988",
   "outputs": [
    {
     "ename": "AttributeError",
     "evalue": "module 'scripts.model.train_model' has no attribute 'train'",
     "output_type": "error",
     "traceback": [
      "\u001B[1;31m---------------------------------------------------------------------------\u001B[0m",
      "\u001B[1;31mAttributeError\u001B[0m                            Traceback (most recent call last)",
      "Cell \u001B[1;32mIn[5], line 1\u001B[0m\n\u001B[1;32m----> 1\u001B[0m \u001B[43mtrain_model\u001B[49m\u001B[38;5;241;43m.\u001B[39;49m\u001B[43mtrain\u001B[49m(training_config)\n",
      "\u001B[1;31mAttributeError\u001B[0m: module 'scripts.model.train_model' has no attribute 'train'"
     ]
    }
   ],
   "execution_count": 5
  }
 ],
 "metadata": {
  "kernelspec": {
   "display_name": "Python 3",
   "language": "python",
   "name": "python3"
  },
  "language_info": {
   "codemirror_mode": {
    "name": "ipython",
    "version": 2
   },
   "file_extension": ".py",
   "mimetype": "text/x-python",
   "name": "python",
   "nbconvert_exporter": "python",
   "pygments_lexer": "ipython2",
   "version": "2.7.6"
  }
 },
 "nbformat": 4,
 "nbformat_minor": 5
}
