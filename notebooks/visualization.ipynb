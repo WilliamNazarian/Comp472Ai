{
 "cells": [
  {
   "metadata": {},
   "cell_type": "markdown",
   "source": "### Imports",
   "id": "570750507ea6ed69"
  },
  {
   "metadata": {
    "ExecuteTime": {
     "end_time": "2024-06-11T17:05:34.008195Z",
     "start_time": "2024-06-11T17:05:29.951221Z"
    }
   },
   "cell_type": "code",
   "source": [
    "import pickle\n",
    "from scripts.visualization.model_evaluation import TrainingVisualizations\n",
    "\n",
    "\n",
    "with open(\"models/training_logger.pkl\", \"rb\") as file:\n",
    "    training_logger = pickle.load(file)\n",
    "\n",
    "TrainingVisualizations.plot_training_metrics(training_logger)"
   ],
   "id": "e86570eb44dc9a8",
   "outputs": [
    {
     "ename": "ModuleNotFoundError",
     "evalue": "No module named 'scripts.model'",
     "output_type": "error",
     "traceback": [
      "\u001B[1;31m---------------------------------------------------------------------------\u001B[0m",
      "\u001B[1;31mModuleNotFoundError\u001B[0m                       Traceback (most recent call last)",
      "Cell \u001B[1;32mIn[1], line 6\u001B[0m\n\u001B[0;32m      2\u001B[0m \u001B[38;5;28;01mfrom\u001B[39;00m \u001B[38;5;21;01mscripts\u001B[39;00m\u001B[38;5;21;01m.\u001B[39;00m\u001B[38;5;21;01mvisualization\u001B[39;00m\u001B[38;5;21;01m.\u001B[39;00m\u001B[38;5;21;01mmodel_evaluation\u001B[39;00m \u001B[38;5;28;01mimport\u001B[39;00m TrainingVisualizations\n\u001B[0;32m      5\u001B[0m \u001B[38;5;28;01mwith\u001B[39;00m \u001B[38;5;28mopen\u001B[39m(\u001B[38;5;124m\"\u001B[39m\u001B[38;5;124mmodels/training_logger.pkl\u001B[39m\u001B[38;5;124m\"\u001B[39m, \u001B[38;5;124m\"\u001B[39m\u001B[38;5;124mrb\u001B[39m\u001B[38;5;124m\"\u001B[39m) \u001B[38;5;28;01mas\u001B[39;00m file:\n\u001B[1;32m----> 6\u001B[0m     training_logger \u001B[38;5;241m=\u001B[39m \u001B[43mpickle\u001B[49m\u001B[38;5;241;43m.\u001B[39;49m\u001B[43mload\u001B[49m\u001B[43m(\u001B[49m\u001B[43mfile\u001B[49m\u001B[43m)\u001B[49m\n\u001B[0;32m      8\u001B[0m TrainingVisualizations\u001B[38;5;241m.\u001B[39mplot_training_metrics(training_logger)\n",
      "\u001B[1;31mModuleNotFoundError\u001B[0m: No module named 'scripts.model'"
     ]
    }
   ],
   "execution_count": 1
  },
  {
   "metadata": {},
   "cell_type": "code",
   "source": "",
   "id": "f7deca315381d7e",
   "outputs": [],
   "execution_count": null
  }
 ],
 "metadata": {
  "kernelspec": {
   "display_name": "Python 3",
   "language": "python",
   "name": "python3"
  },
  "language_info": {
   "codemirror_mode": {
    "name": "ipython",
    "version": 2
   },
   "file_extension": ".py",
   "mimetype": "text/x-python",
   "name": "python",
   "nbconvert_exporter": "python",
   "pygments_lexer": "ipython2",
   "version": "2.7.6"
  }
 },
 "nbformat": 4,
 "nbformat_minor": 5
}
