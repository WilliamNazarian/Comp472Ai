{
 "cells": [
  {
   "metadata": {},
   "cell_type": "markdown",
   "source": "### Imports",
   "id": "4454a851b11ab2e4"
  },
  {
   "metadata": {
    "ExecuteTime": {
     "end_time": "2024-06-11T17:06:37.878203Z",
     "start_time": "2024-06-11T17:06:33.674559Z"
    }
   },
   "cell_type": "code",
   "source": [
    "import pickle\n",
    "import torch\n",
    "import torch.nn as nn\n",
    "import numpy as np\n",
    "\n",
    "import scripts.data_loader as data_loader\n",
    "import src.training as training\n",
    "import src.evaluation as evaluation\n",
    "\n",
    "from dataclasses import dataclass, asdict\n",
    "from src.types import * \n",
    "from src.models.model1 import OB_05Model"
   ],
   "id": "initial_id",
   "outputs": [],
   "execution_count": 1
  },
  {
   "metadata": {},
   "cell_type": "markdown",
   "source": "# Training",
   "id": "68eb269ba45a0e22"
  },
  {
   "metadata": {
    "ExecuteTime": {
     "end_time": "2024-06-11T17:06:37.918035Z",
     "start_time": "2024-06-11T17:06:37.879212Z"
    }
   },
   "cell_type": "code",
   "source": [
    "training_dataset, validation_dataset, testing_dataset = data_loader.split_images_dataset()\n",
    "torch.save(training_dataset, \"models/training_dataset.pth\")\n",
    "torch.save(validation_dataset, \"models/validation_dataset.pth\")\n",
    "torch.save(testing_dataset, \"models/testing_dataset.pth\")\n",
    "\n",
    "training_set_loader = data_loader.create_data_loader(training_dataset)\n",
    "validation_set_loader = data_loader.create_data_loader(validation_dataset)\n",
    "testing_set_loader = data_loader.create_data_loader(testing_dataset)"
   ],
   "id": "f1797530dca4d0b7",
   "outputs": [],
   "execution_count": 2
  },
  {
   "metadata": {
    "ExecuteTime": {
     "end_time": "2024-06-11T17:06:37.948881Z",
     "start_time": "2024-06-11T17:06:37.919041Z"
    }
   },
   "cell_type": "code",
   "source": [
    "learning_rate = 0.001\n",
    "model = OB_05Model()\n",
    "criterion = nn.CrossEntropyLoss()\n",
    "optimizer = torch.optim.Adam(model.parameters(), lr=learning_rate)\n",
    "\n",
    "training_config = training.TrainingConfig(\n",
    "    training_set_loader=training_set_loader,\n",
    "    validation_set_loader=validation_set_loader,\n",
    "    testing_set_loader=testing_set_loader,\n",
    "\n",
    "    epochs=10,\n",
    "    learning_rate=learning_rate,\n",
    "\n",
    "    classes=data_loader.get_trainset().classes,\n",
    "    model=model,\n",
    "    criterion=criterion,\n",
    "    optimizer=optimizer\n",
    ")"
   ],
   "id": "ca0a431c1eb1fb45",
   "outputs": [],
   "execution_count": 3
  },
  {
   "metadata": {
    "ExecuteTime": {
     "end_time": "2024-06-11T17:11:01.863508Z",
     "start_time": "2024-06-11T17:06:37.950396Z"
    }
   },
   "cell_type": "code",
   "source": [
    "training_logger = training.train_model(training_config)\n",
    "\n",
    "with open(\"models/training_logger.pkl\", \"wb\") as file:\n",
    "    pickle.dump(training_logger, file)\n",
    "\n",
    "torch.save(model.state_dict(), 'models/model.pth')"
   ],
   "id": "1c623c5fb0744988",
   "outputs": [
    {
     "name": "stdout",
     "output_type": "stream",
     "text": [
      "Epoch 1/10:\n",
      "\tTraining precision: 0.4198\n",
      "\tTraining recall: 0.1478\n",
      "\tTraining accuracy: 0.4198\n",
      "\tTraining f1-score: 0.2186\n",
      "\n",
      "\tValidation precision: 0.5879\n",
      "\tValidation recall: 0.1851\n",
      "\tValidation accuracy: 0.5879\n",
      "\tValidation f1-score: 0.2816\n",
      "\n",
      "\n",
      "Epoch 2/10:\n",
      "\tTraining precision: 0.6148\n",
      "\tTraining recall: 0.1904\n",
      "\tTraining accuracy: 0.6148\n",
      "\tTraining f1-score: 0.2907\n",
      "\n",
      "\tValidation precision: 0.6254\n",
      "\tValidation recall: 0.1924\n",
      "\tValidation accuracy: 0.6254\n",
      "\tValidation f1-score: 0.2942\n",
      "\n",
      "\n",
      "Epoch 3/10:\n",
      "\tTraining precision: 0.6778\n",
      "\tTraining recall: 0.2020\n",
      "\tTraining accuracy: 0.6778\n",
      "\tTraining f1-score: 0.3112\n",
      "\n",
      "\tValidation precision: 0.7061\n",
      "\tValidation recall: 0.2069\n",
      "\tValidation accuracy: 0.7061\n",
      "\tValidation f1-score: 0.3201\n",
      "\n",
      "\n",
      "Epoch 4/10:\n",
      "\tTraining precision: 0.6963\n",
      "\tTraining recall: 0.2052\n",
      "\tTraining accuracy: 0.6963\n",
      "\tTraining f1-score: 0.3170\n",
      "\n",
      "\tValidation precision: 0.6888\n",
      "\tValidation recall: 0.2039\n",
      "\tValidation accuracy: 0.6888\n",
      "\tValidation f1-score: 0.3147\n",
      "\n",
      "\n",
      "Epoch 5/10:\n",
      "\tTraining precision: 0.7358\n",
      "\tTraining recall: 0.2119\n",
      "\tTraining accuracy: 0.7358\n",
      "\tTraining f1-score: 0.3291\n",
      "\n",
      "\tValidation precision: 0.7291\n",
      "\tValidation recall: 0.2108\n",
      "\tValidation accuracy: 0.7291\n",
      "\tValidation f1-score: 0.3271\n",
      "\n",
      "\n",
      "Epoch 6/10:\n",
      "\tTraining precision: 0.7525\n",
      "\tTraining recall: 0.2147\n",
      "\tTraining accuracy: 0.7525\n",
      "\tTraining f1-score: 0.3341\n",
      "\n",
      "\tValidation precision: 0.7435\n",
      "\tValidation recall: 0.2132\n",
      "\tValidation accuracy: 0.7435\n",
      "\tValidation f1-score: 0.3314\n",
      "\n",
      "\n",
      "Epoch 7/10:\n",
      "\tTraining precision: 0.7778\n",
      "\tTraining recall: 0.2188\n",
      "\tTraining accuracy: 0.7778\n",
      "\tTraining f1-score: 0.3415\n",
      "\n",
      "\tValidation precision: 0.7666\n",
      "\tValidation recall: 0.2170\n",
      "\tValidation accuracy: 0.7666\n",
      "\tValidation f1-score: 0.3382\n",
      "\n",
      "\n",
      "Epoch 8/10:\n",
      "\tTraining precision: 0.7951\n",
      "\tTraining recall: 0.2215\n",
      "\tTraining accuracy: 0.7951\n",
      "\tTraining f1-score: 0.3464\n",
      "\n",
      "\tValidation precision: 0.7579\n",
      "\tValidation recall: 0.2156\n",
      "\tValidation accuracy: 0.7579\n",
      "\tValidation f1-score: 0.3357\n",
      "\n",
      "\n",
      "Epoch 9/10:\n",
      "\tTraining precision: 0.8031\n",
      "\tTraining recall: 0.2227\n",
      "\tTraining accuracy: 0.8031\n",
      "\tTraining f1-score: 0.3487\n",
      "\n",
      "\tValidation precision: 0.7291\n",
      "\tValidation recall: 0.2108\n",
      "\tValidation accuracy: 0.7291\n",
      "\tValidation f1-score: 0.3271\n",
      "\n",
      "\n",
      "Epoch 10/10:\n",
      "\tTraining precision: 0.8093\n",
      "\tTraining recall: 0.2236\n",
      "\tTraining accuracy: 0.8093\n",
      "\tTraining f1-score: 0.3504\n",
      "\n",
      "\tValidation precision: 0.7695\n",
      "\tValidation recall: 0.2174\n",
      "\tValidation accuracy: 0.7695\n",
      "\tValidation f1-score: 0.3390\n",
      "\n",
      "\n"
     ]
    }
   ],
   "execution_count": 4
  },
  {
   "metadata": {},
   "cell_type": "code",
   "source": "",
   "id": "79f21533a69ba4",
   "outputs": [],
   "execution_count": null
  }
 ],
 "metadata": {
  "kernelspec": {
   "display_name": "Python 3",
   "language": "python",
   "name": "python3"
  },
  "language_info": {
   "codemirror_mode": {
    "name": "ipython",
    "version": 2
   },
   "file_extension": ".py",
   "mimetype": "text/x-python",
   "name": "python",
   "nbconvert_exporter": "python",
   "pygments_lexer": "ipython2",
   "version": "2.7.6"
  }
 },
 "nbformat": 4,
 "nbformat_minor": 5
}
