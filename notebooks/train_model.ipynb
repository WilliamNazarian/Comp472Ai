{
 "cells": [
  {
   "metadata": {},
   "cell_type": "markdown",
   "source": "### Imports",
   "id": "4454a851b11ab2e4"
  },
  {
   "metadata": {
    "ExecuteTime": {
     "end_time": "2024-06-10T20:26:30.143450Z",
     "start_time": "2024-06-10T20:26:30.137867Z"
    }
   },
   "cell_type": "code",
   "source": [
    "import pickle\n",
    "import torch\n",
    "import torch.nn as nn\n",
    "import numpy as np\n",
    "\n",
    "import scripts.data_loader as data_loader\n",
    "import scripts.model.training as training\n",
    "import scripts.model.evaluation as evaluation\n",
    "\n",
    "from dataclasses import dataclass, asdict\n",
    "from scripts.model.types import * \n",
    "from models.model1 import OB_05Model"
   ],
   "id": "initial_id",
   "outputs": [],
   "execution_count": 5
  },
  {
   "metadata": {},
   "cell_type": "markdown",
   "source": "# Training",
   "id": "68eb269ba45a0e22"
  },
  {
   "metadata": {
    "ExecuteTime": {
     "end_time": "2024-06-10T20:26:31.429084Z",
     "start_time": "2024-06-10T20:26:31.395992Z"
    }
   },
   "cell_type": "code",
   "source": [
    "training_dataset, validation_dataset, testing_dataset = data_loader.split_images_dataset()\n",
    "torch.save(training_dataset, \"models/training_dataset.pth\")\n",
    "torch.save(validation_dataset, \"models/validation_dataset.pth\")\n",
    "torch.save(testing_dataset, \"models/testing_dataset.pth\")\n",
    "\n",
    "training_set_loader = data_loader.create_data_loader(training_dataset)\n",
    "validation_set_loader = data_loader.create_data_loader(validation_dataset)\n",
    "testing_set_loader = data_loader.create_data_loader(testing_dataset)"
   ],
   "id": "f1797530dca4d0b7",
   "outputs": [],
   "execution_count": 6
  },
  {
   "metadata": {
    "ExecuteTime": {
     "end_time": "2024-06-10T20:26:32.060839Z",
     "start_time": "2024-06-10T20:26:32.035139Z"
    }
   },
   "cell_type": "code",
   "source": [
    "learning_rate = 0.001\n",
    "model = OB_05Model()\n",
    "criterion = nn.CrossEntropyLoss()\n",
    "optimizer = torch.optim.Adam(model.parameters(), lr=learning_rate)\n",
    "\n",
    "training_config = training.TrainingConfig(\n",
    "    training_set_loader=training_set_loader,\n",
    "    validation_set_loader=validation_set_loader,\n",
    "    testing_set_loader=testing_set_loader,\n",
    "\n",
    "    epochs=10,\n",
    "    learning_rate=learning_rate,\n",
    "\n",
    "    classes=data_loader.get_trainset().classes,\n",
    "    model=model,\n",
    "    criterion=criterion,\n",
    "    optimizer=optimizer\n",
    ")"
   ],
   "id": "ca0a431c1eb1fb45",
   "outputs": [],
   "execution_count": 7
  },
  {
   "metadata": {
    "ExecuteTime": {
     "end_time": "2024-06-10T20:30:43.009685Z",
     "start_time": "2024-06-10T20:26:32.743444Z"
    }
   },
   "cell_type": "code",
   "source": [
    "training_logger = training.train_model(training_config)\n",
    "\n",
    "with open(\"models/training_logger.pkl\", \"wb\") as file:\n",
    "    pickle.dump(training_logger, file)\n",
    "\n",
    "torch.save(model.state_dict(), 'models/model.pth')"
   ],
   "id": "1c623c5fb0744988",
   "outputs": [
    {
     "name": "stdout",
     "output_type": "stream",
     "text": [
      "Epoch 1/10:\n",
      "\tTraining precision: 0.4407\n",
      "\tTraining recall: 0.4402\n",
      "\tTraining accuracy: 0.7259\n",
      "\tTraining f1-score: 0.4346\n",
      "\n",
      "\tValidation precision: 0.7272\n",
      "\tValidation recall: 0.6809\n",
      "\tValidation accuracy: 0.8415\n",
      "\tValidation f1-score: 0.6635\n",
      "\n",
      "\n",
      "Epoch 2/10:\n",
      "\tTraining precision: 0.6130\n",
      "\tTraining recall: 0.6132\n",
      "\tTraining accuracy: 0.8114\n",
      "\tTraining f1-score: 0.6121\n",
      "\n",
      "\tValidation precision: 0.8048\n",
      "\tValidation recall: 0.7383\n",
      "\tValidation accuracy: 0.8761\n",
      "\tValidation f1-score: 0.7102\n",
      "\n",
      "\n",
      "Epoch 3/10:\n",
      "\tTraining precision: 0.6767\n",
      "\tTraining recall: 0.6744\n",
      "\tTraining accuracy: 0.8435\n",
      "\tTraining f1-score: 0.6725\n",
      "\n",
      "\tValidation precision: 0.7912\n",
      "\tValidation recall: 0.7707\n",
      "\tValidation accuracy: 0.8905\n",
      "\tValidation f1-score: 0.7649\n",
      "\n",
      "\n",
      "Epoch 4/10:\n",
      "\tTraining precision: 0.6898\n",
      "\tTraining recall: 0.6874\n",
      "\tTraining accuracy: 0.8497\n",
      "\tTraining f1-score: 0.6859\n",
      "\n",
      "\tValidation precision: 0.7631\n",
      "\tValidation recall: 0.7630\n",
      "\tValidation accuracy: 0.8862\n",
      "\tValidation f1-score: 0.7627\n",
      "\n",
      "\n",
      "Epoch 5/10:\n",
      "\tTraining precision: 0.7232\n",
      "\tTraining recall: 0.7220\n",
      "\tTraining accuracy: 0.8657\n",
      "\tTraining f1-score: 0.7216\n",
      "\n",
      "\tValidation precision: 0.8143\n",
      "\tValidation recall: 0.8028\n",
      "\tValidation accuracy: 0.9063\n",
      "\tValidation f1-score: 0.8007\n",
      "\n",
      "\n",
      "Epoch 6/10:\n",
      "\tTraining precision: 0.7621\n",
      "\tTraining recall: 0.7599\n",
      "\tTraining accuracy: 0.8849\n",
      "\tTraining f1-score: 0.7594\n",
      "\n",
      "\tValidation precision: 0.8395\n",
      "\tValidation recall: 0.8152\n",
      "\tValidation accuracy: 0.9121\n",
      "\tValidation f1-score: 0.8117\n",
      "\n",
      "\n",
      "Epoch 7/10:\n",
      "\tTraining precision: 0.7710\n",
      "\tTraining recall: 0.7703\n",
      "\tTraining accuracy: 0.8898\n",
      "\tTraining f1-score: 0.7700\n",
      "\n",
      "\tValidation precision: 0.8176\n",
      "\tValidation recall: 0.8168\n",
      "\tValidation accuracy: 0.9121\n",
      "\tValidation f1-score: 0.8165\n",
      "\n",
      "\n",
      "Epoch 8/10:\n",
      "\tTraining precision: 0.8024\n",
      "\tTraining recall: 0.8017\n",
      "\tTraining accuracy: 0.9040\n",
      "\tTraining f1-score: 0.8019\n",
      "\n",
      "\tValidation precision: 0.8304\n",
      "\tValidation recall: 0.8108\n",
      "\tValidation accuracy: 0.9092\n",
      "\tValidation f1-score: 0.8078\n",
      "\n",
      "\n",
      "Epoch 9/10:\n",
      "\tTraining precision: 0.7954\n",
      "\tTraining recall: 0.7941\n",
      "\tTraining accuracy: 0.9012\n",
      "\tTraining f1-score: 0.7942\n",
      "\n",
      "\tValidation precision: 0.8094\n",
      "\tValidation recall: 0.8085\n",
      "\tValidation accuracy: 0.9078\n",
      "\tValidation f1-score: 0.8080\n",
      "\n",
      "\n",
      "Epoch 10/10:\n",
      "\tTraining precision: 0.8191\n",
      "\tTraining recall: 0.8179\n",
      "\tTraining accuracy: 0.9120\n",
      "\tTraining f1-score: 0.8183\n",
      "\n",
      "\tValidation precision: 0.8237\n",
      "\tValidation recall: 0.8223\n",
      "\tValidation accuracy: 0.9150\n",
      "\tValidation f1-score: 0.8218\n",
      "\n",
      "\n"
     ]
    }
   ],
   "execution_count": 8
  },
  {
   "metadata": {},
   "cell_type": "markdown",
   "source": "# Evaluation/Testing",
   "id": "3dad0b0da5ff3066"
  },
  {
   "metadata": {
    "ExecuteTime": {
     "end_time": "2024-06-10T20:33:48.443854Z",
     "start_time": "2024-06-10T20:33:48.425382Z"
    }
   },
   "cell_type": "code",
   "source": [
    "with open(\"models/training_logger.pkl\", \"rb\") as file:\n",
    "    training_logger = pickle.load(file)\n",
    "\n",
    "print(training_logger)"
   ],
   "id": "c3a2c74c7fa0be25",
   "outputs": [
    {
     "name": "stdout",
     "output_type": "stream",
     "text": [
      "TrainingLogger(training_confusion_matrix_history=[array([[257, 101,  51,  28],\n",
      "       [177,  84,  47,  35],\n",
      "       [ 50,  16, 227, 138],\n",
      "       [ 58,  23, 164, 164]]), array([[289, 127,   5,  16],\n",
      "       [169, 145,  12,  17],\n",
      "       [  3,  12, 298, 118],\n",
      "       [ 10,  12, 110, 277]]), array([[320, 105,   5,   7],\n",
      "       [168, 148,  13,  14],\n",
      "       [  2,   5, 346,  78],\n",
      "       [  9,   6,  95, 299]]), array([[323,  99,   6,   9],\n",
      "       [163, 154,   9,  17],\n",
      "       [  4,  10, 339,  78],\n",
      "       [  8,   5,  79, 317]]), array([[318, 110,   1,   8],\n",
      "       [144, 179,  10,  10],\n",
      "       [  3,   4, 349,  75],\n",
      "       [  5,   9,  56, 339]]), array([[332,  92,   4,   9],\n",
      "       [132, 189,  12,  10],\n",
      "       [  1,   4, 369,  57],\n",
      "       [  7,   2,  43, 357]]), array([[329,  95,   4,   9],\n",
      "       [125, 197,   9,  12],\n",
      "       [  3,   2, 384,  42],\n",
      "       [  2,  11,  43, 353]]), array([[341,  85,   2,   9],\n",
      "       [ 95, 229,   7,  12],\n",
      "       [  3,   4, 386,  38],\n",
      "       [  8,   6,  42, 353]]), array([[342,  91,   1,   3],\n",
      "       [112, 211,  10,  10],\n",
      "       [  3,   3, 384,  41],\n",
      "       [  3,   5,  38, 363]]), array([[349,  82,   0,   6],\n",
      "       [ 88, 235,   9,  11],\n",
      "       [  6,   3, 386,  36],\n",
      "       [  7,   2,  35, 365]])], validation_confusion_matrix_history=[array([[70, 11,  0,  2],\n",
      "       [38, 38,  2,  0],\n",
      "       [ 0,  1, 89,  2],\n",
      "       [ 1,  2, 51, 40]]), array([[83,  0,  0,  0],\n",
      "       [57, 19,  0,  2],\n",
      "       [ 0,  1, 78, 13],\n",
      "       [ 2,  1, 10, 81]]), array([[73,  9,  0,  1],\n",
      "       [40, 36,  0,  2],\n",
      "       [ 0,  0, 80, 12],\n",
      "       [ 1,  0, 11, 82]]), array([[55, 27,  0,  1],\n",
      "       [28, 48,  1,  1],\n",
      "       [ 0,  0, 80, 12],\n",
      "       [ 1,  0,  8, 85]]), array([[70, 12,  0,  1],\n",
      "       [33, 43,  1,  1],\n",
      "       [ 0,  0, 81, 11],\n",
      "       [ 1,  0,  5, 88]]), array([[77,  6,  0,  0],\n",
      "       [34, 42,  1,  1],\n",
      "       [ 0,  0, 78, 14],\n",
      "       [ 1,  0,  4, 89]]), array([[63, 20,  0,  0],\n",
      "       [23, 53,  1,  1],\n",
      "       [ 0,  0, 87,  5],\n",
      "       [ 1,  0, 10, 83]]), array([[75,  8,  0,  0],\n",
      "       [32, 44,  2,  0],\n",
      "       [ 0,  0, 88,  4],\n",
      "       [ 1,  0, 16, 77]]), array([[59, 24,  0,  0],\n",
      "       [21, 55,  1,  1],\n",
      "       [ 0,  0, 88,  4],\n",
      "       [ 1,  0, 12, 81]]), array([[65, 18,  0,  0],\n",
      "       [23, 52,  1,  2],\n",
      "       [ 0,  0, 88,  4],\n",
      "       [ 1,  0, 10, 83]])], training_precision_history=[array([0.47416974, 0.375     , 0.46421268, 0.44931507]), array([0.61358811, 0.48986486, 0.70117647, 0.64719626]), array([0.64128257, 0.56060606, 0.75381264, 0.75125628]), array([0.64859438, 0.57462687, 0.78290993, 0.75296912]), array([0.67659574, 0.59271523, 0.83894231, 0.78472222]), array([0.70338983, 0.65853659, 0.86214953, 0.82448037]), array([0.7167756 , 0.64590164, 0.87272727, 0.84855769]), array([0.76286353, 0.70679012, 0.88329519, 0.85679612]), array([0.74347826, 0.68064516, 0.88683603, 0.8705036 ]), array([0.77555556, 0.72981366, 0.89767442, 0.87320574])], training_recall_history=[array([0.58810069, 0.24489796, 0.52668213, 0.400978  ]), array([0.66132723, 0.42274052, 0.69141531, 0.67726161]), array([0.73226545, 0.43148688, 0.80278422, 0.73105134]), array([0.73913043, 0.44897959, 0.78654292, 0.77506112]), array([0.72768879, 0.52186589, 0.80974478, 0.82885086]), array([0.7597254 , 0.55102041, 0.85614849, 0.87286064]), array([0.75286041, 0.57434402, 0.89095128, 0.86308068]), array([0.78032037, 0.66763848, 0.89559165, 0.86308068]), array([0.7826087 , 0.61516035, 0.89095128, 0.88753056]), array([0.798627  , 0.6851312 , 0.89559165, 0.89242054])], training_accuracy_history=[array([0.71296296, 0.7537037 , 0.71234568, 0.72469136]), array([0.7962963 , 0.7845679 , 0.83950617, 0.82530864]), array([0.81728395, 0.80802469, 0.87777778, 0.87098765]), array([0.82160494, 0.81296296, 0.88518519, 0.87901235]), array([0.83271605, 0.82283951, 0.90802469, 0.89938272]), array([0.84876543, 0.84444444, 0.92530864, 0.92098765]), array([0.85308642, 0.84320988, 0.93641975, 0.92654321]), array([0.87530864, 0.87098765, 0.94074074, 0.92901235]), array([0.86851852, 0.85740741, 0.94074074, 0.9382716 ]), array([0.88333333, 0.87962963, 0.94506173, 0.94012346])], training_f1_score_history=[array([0.52502554, 0.2962963 , 0.49347826, 0.42377261]), array([0.63656388, 0.45383412, 0.69626168, 0.66188769]), array([0.68376068, 0.48764415, 0.77752809, 0.74101611]), array([0.69090909, 0.50409165, 0.78472222, 0.76385542]), array([0.70121279, 0.55503876, 0.82408501, 0.80618312]), array([0.73047305, 0.6       , 0.85913853, 0.847981  ]), array([0.734375  , 0.60802469, 0.88174512, 0.85575758]), array([0.77149321, 0.68665667, 0.88940092, 0.85992692]), array([0.76254181, 0.64624809, 0.88888889, 0.87893462]), array([0.78692221, 0.70676692, 0.89663182, 0.88270859])], validation_precision_history=[array([0.64220183, 0.73076923, 0.62676056, 0.90909091]), array([0.58450704, 0.9047619 , 0.88636364, 0.84375   ]), array([0.64035088, 0.8       , 0.87912088, 0.84536082]), array([0.6547619 , 0.64      , 0.8988764 , 0.85858586]), array([0.67307692, 0.78181818, 0.93103448, 0.87128713]), array([0.6875    , 0.875     , 0.93975904, 0.85576923]), array([0.72413793, 0.7260274 , 0.8877551 , 0.93258427]), array([0.69444444, 0.84615385, 0.83018868, 0.95061728]), array([0.72839506, 0.69620253, 0.87128713, 0.94186047]), array([0.73033708, 0.74285714, 0.88888889, 0.93258427])], validation_recall_history=[array([0.84337349, 0.48717949, 0.9673913 , 0.42553191]), array([1.        , 0.24358974, 0.84782609, 0.86170213]), array([0.87951807, 0.46153846, 0.86956522, 0.87234043]), array([0.6626506 , 0.61538462, 0.86956522, 0.90425532]), array([0.84337349, 0.55128205, 0.88043478, 0.93617021]), array([0.92771084, 0.53846154, 0.84782609, 0.94680851]), array([0.75903614, 0.67948718, 0.94565217, 0.88297872]), array([0.90361446, 0.56410256, 0.95652174, 0.81914894]), array([0.71084337, 0.70512821, 0.95652174, 0.86170213]), array([0.78313253, 0.66666667, 0.95652174, 0.88297872])], validation_accuracy_history=[array([0.85014409, 0.8443804 , 0.83861671, 0.83285303]), array([0.82997118, 0.82420749, 0.93083573, 0.91930836]), array([0.85302594, 0.85302594, 0.93371758, 0.9221902 ]), array([0.83573487, 0.83573487, 0.93948127, 0.93371758]), array([0.86455331, 0.86455331, 0.95100865, 0.94524496]), array([0.88184438, 0.87896254, 0.94524496, 0.94236311]), array([0.87319885, 0.870317  , 0.95389049, 0.95100865]), array([0.88184438, 0.87896254, 0.93659942, 0.93948127]), array([0.86743516, 0.86455331, 0.95100865, 0.9481268 ]), array([0.87896254, 0.87319885, 0.95677233, 0.95100865])], validation_f1_score_history=[array([0.72916667, 0.58461538, 0.76068376, 0.57971014]), array([0.73777778, 0.38383838, 0.86666667, 0.85263158]), array([0.74111675, 0.58536585, 0.87431694, 0.85863874]), array([0.65868263, 0.62745098, 0.8839779 , 0.88082902]), array([0.7486631 , 0.64661654, 0.90502793, 0.9025641 ]), array([0.78974359, 0.66666667, 0.89142857, 0.8989899 ]), array([0.74117647, 0.70198675, 0.91578947, 0.90710383]), array([0.78534031, 0.67692308, 0.88888889, 0.88      ]), array([0.7195122 , 0.70063694, 0.9119171 , 0.9       ]), array([0.75581395, 0.7027027 , 0.92146597, 0.90710383])])\n"
     ]
    }
   ],
   "execution_count": 10
  },
  {
   "metadata": {},
   "cell_type": "code",
   "source": [
    "loaded_testing_dataset = torch.load('models/testing_dataset.pth')\n",
    "testing_set_loader = data_loader.create_data_loader(loaded_testing_dataset)\n",
    "\n",
    "print(next(iter(loaded_testing_dataset)))"
   ],
   "id": "d5b0d79d90bf9869",
   "outputs": [],
   "execution_count": null
  },
  {
   "metadata": {},
   "cell_type": "code",
   "source": [
    "model = OB_05Model()\n",
    "model.load_state_dict(torch.load('models/model.pth'))\n",
    "evaluation_result = evaluation.evaluate_model(model, testing_set_loader)"
   ],
   "id": "30b7aae7966faf00",
   "outputs": [],
   "execution_count": null
  },
  {
   "metadata": {},
   "cell_type": "code",
   "source": [
    "true_positives, false_positives, true_negatives, false_negatives = evaluation_result.calculate_metrics()\n",
    "\n",
    "print(f'Total:\\t\\t\\t\\t{evaluation_result.total_tests()} tests\\n'\n",
    "      f'True positives:\\t\\t{np.sum(true_positives)}\\n'\n",
    "      f'False positives:\\t{np.sum(false_positives)}\\n'\n",
    "      f'True negatives:\\t\\t{np.sum(true_negatives)}\\n'\n",
    "      f'False negatives:\\t{np.sum(false_negatives)}\\n'\n",
    "      f'Precision:\\t\\t\\t{evaluation_result.calculate_precision():.4f}\\n'\n",
    "      f'Recall:\\t\\t\\t\\t{evaluation_result.calculate_recall():.4f}\\n'\n",
    "      f'Accuracy:\\t\\t\\t{evaluation_result.calculate_accuracy():.4f}\\n'\n",
    "      f'F1-Score:\\t\\t\\t{evaluation_result.calculate_f1_score():.4f}\\n')\n"
   ],
   "id": "ac188ac9f407de38",
   "outputs": [],
   "execution_count": null
  },
  {
   "metadata": {},
   "cell_type": "code",
   "source": [
    "import matplotlib.pyplot as plt\n",
    "import seaborn as sns\n",
    "\n",
    "confusion_matrix = evaluation_result.confusion_matrix\n",
    "\n",
    "hyperparameters = {\n",
    "    'Learning Rate': 0.001,\n",
    "    'Batch Size': 32,\n",
    "    'Epochs': 10,\n",
    "    'Optimizer': 'Adam'\n",
    "}\n",
    "\n",
    "# Function to plot confusion matrix\n",
    "def plot_confusion_matrix(confusion_matrix, hyperparameters):\n",
    "    plt.figure(figsize=(10, 8))\n",
    "    \n",
    "    # Plot the confusion matrix\n",
    "    ax = plt.subplot(121)\n",
    "    sns.heatmap(confusion_matrix, annot=True, fmt='d', cmap='Blues', cbar=False)\n",
    "    plt.title('Confusion Matrix')\n",
    "    plt.xlabel('Predicted')\n",
    "    plt.ylabel('Actual')\n",
    "    \n",
    "    # Plot the hyperparameters\n",
    "    ax = plt.subplot(122)\n",
    "    ax.axis('off')\n",
    "    text = '\\n'.join([f'{key}: {value}' for key, value in hyperparameters.items()])\n",
    "    plt.text(0.5, 0.5, text, ha='center', va='center', fontsize=12)\n",
    "    plt.title('Training Hyperparameters')\n",
    "    \n",
    "    plt.tight_layout()\n",
    "    plt.show()\n",
    "\n",
    "# Example usage\n",
    "plot_confusion_matrix(confusion_matrix, hyperparameters)"
   ],
   "id": "59b29c2f5038ad",
   "outputs": [],
   "execution_count": null
  },
  {
   "metadata": {
    "ExecuteTime": {
     "end_time": "2024-06-10T20:33:56.091761Z",
     "start_time": "2024-06-10T20:33:56.061318Z"
    }
   },
   "cell_type": "code",
   "source": "",
   "id": "abe870bb9df0da88",
   "outputs": [
    {
     "ename": "TypeError",
     "evalue": "unsupported operand type(s) for |: 'list' and 'function'",
     "output_type": "error",
     "traceback": [
      "\u001B[1;31m---------------------------------------------------------------------------\u001B[0m",
      "\u001B[1;31mTypeError\u001B[0m                                 Traceback (most recent call last)",
      "Cell \u001B[1;32mIn[11], line 6\u001B[0m\n\u001B[0;32m      2\u001B[0m     training_logger \u001B[38;5;241m=\u001B[39m pickle\u001B[38;5;241m.\u001B[39mload(file)\n\u001B[0;32m      4\u001B[0m \u001B[38;5;28;01mfrom\u001B[39;00m \u001B[38;5;21;01mscripts\u001B[39;00m\u001B[38;5;21;01m.\u001B[39;00m\u001B[38;5;21;01mvisualization\u001B[39;00m\u001B[38;5;21;01m.\u001B[39;00m\u001B[38;5;21;01mmodel_evaluation\u001B[39;00m \u001B[38;5;28;01mimport\u001B[39;00m TrainingVisualizations\n\u001B[1;32m----> 6\u001B[0m \u001B[43mTrainingVisualizations\u001B[49m\u001B[38;5;241;43m.\u001B[39;49m\u001B[43mplot_training_metrics\u001B[49m\u001B[43m(\u001B[49m\u001B[43mtraining_logger\u001B[49m\u001B[43m)\u001B[49m\n",
      "File \u001B[1;32m~\\Sandbox\\Python\\Comp472Ai\\scripts\\visualization\\model_evaluation.py:8\u001B[0m, in \u001B[0;36mTrainingVisualizations.plot_training_metrics\u001B[1;34m(training_logger)\u001B[0m\n\u001B[0;32m      6\u001B[0m \u001B[38;5;129m@staticmethod\u001B[39m\n\u001B[0;32m      7\u001B[0m \u001B[38;5;28;01mdef\u001B[39;00m \u001B[38;5;21mplot_training_metrics\u001B[39m(training_logger: TrainingLogger):\n\u001B[1;32m----> 8\u001B[0m     training_precision_history \u001B[38;5;241m=\u001B[39m \u001B[38;5;28mlist\u001B[39m(\u001B[43mtraining_logger\u001B[49m\u001B[38;5;241;43m.\u001B[39;49m\u001B[43mtraining_precision_history\u001B[49m\u001B[43m \u001B[49m\u001B[38;5;241;43m|\u001B[39;49m\u001B[43m \u001B[49m\u001B[43m(\u001B[49m\u001B[38;5;28;43;01mlambda\u001B[39;49;00m\u001B[43m \u001B[49m\u001B[43mx\u001B[49m\u001B[43m:\u001B[49m\u001B[43m \u001B[49m\u001B[43mnp\u001B[49m\u001B[38;5;241;43m.\u001B[39;49m\u001B[43msum\u001B[49m\u001B[43m(\u001B[49m\u001B[43mx\u001B[49m\u001B[43m)\u001B[49m\u001B[43m)\u001B[49m)\n\u001B[0;32m      9\u001B[0m     training_recall_history \u001B[38;5;241m=\u001B[39m \u001B[38;5;28mlist\u001B[39m(training_logger\u001B[38;5;241m.\u001B[39mtraining_recall_history \u001B[38;5;241m|\u001B[39m (\u001B[38;5;28;01mlambda\u001B[39;00m x: np\u001B[38;5;241m.\u001B[39msum(x)))\n\u001B[0;32m     10\u001B[0m     training_accuracy_history \u001B[38;5;241m=\u001B[39m \u001B[38;5;28mlist\u001B[39m(training_logger\u001B[38;5;241m.\u001B[39mtraining_accuracy_history \u001B[38;5;241m|\u001B[39m (\u001B[38;5;28;01mlambda\u001B[39;00m x: np\u001B[38;5;241m.\u001B[39msum(x)))\n",
      "\u001B[1;31mTypeError\u001B[0m: unsupported operand type(s) for |: 'list' and 'function'"
     ]
    }
   ],
   "execution_count": 11
  },
  {
   "metadata": {},
   "cell_type": "code",
   "source": "",
   "id": "79f21533a69ba4",
   "outputs": [],
   "execution_count": null
  }
 ],
 "metadata": {
  "kernelspec": {
   "display_name": "Python 3",
   "language": "python",
   "name": "python3"
  },
  "language_info": {
   "codemirror_mode": {
    "name": "ipython",
    "version": 2
   },
   "file_extension": ".py",
   "mimetype": "text/x-python",
   "name": "python",
   "nbconvert_exporter": "python",
   "pygments_lexer": "ipython2",
   "version": "2.7.6"
  }
 },
 "nbformat": 4,
 "nbformat_minor": 5
}
