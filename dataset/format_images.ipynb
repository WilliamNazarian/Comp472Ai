{
 "cells": [
  {
   "cell_type": "code",
   "execution_count": 1,
   "id": "151567a2-64cb-4b5c-996b-d892776a9b65",
   "metadata": {},
   "source": [
    "import cv2\n",
    "print(cv2.__version__)"
   ],
   "outputs": []
  },
  {
   "cell_type": "code",
   "execution_count": 8,
   "id": "56652060-eaa6-43da-bce6-c23caf4ab52c",
   "metadata": {},
   "source": [
    "import os\n",
    "import cv2\n",
    "import pandas as pd\n",
    "\n",
    "# Load the CSV file containing labels\n",
    "df = pd.read_csv('Combined_Labels_DataFrame.csv')\n",
    "\n",
    "# Set the target image size\n",
    "IMG_SIZE = (90, 90)\n",
    "\n",
    "# Function to process and resize images\n",
    "def process_image(image_path):\n",
    "    # Read the image\n",
    "    img = cv2.imread(image_path)\n",
    "    if img is None:\n",
    "        raise FileNotFoundError(f\"Image not found at path: {image_path}\")\n",
    "    # Convert to grayscale\n",
    "    gray = cv2.cvtColor(img, cv2.COLOR_BGR2GRAY)\n",
    "    # Histogram equalization to adjust lighting\n",
    "    equalized = cv2.equalizeHist(gray)\n",
    "    # Resize the image\n",
    "    img_resized = cv2.resize(equalized, IMG_SIZE)\n",
    "    return img_resized\n",
    "\n",
    "# Iterate over each row in the CSV and process the images\n",
    "for index, row in df.iterrows():\n",
    "    img_label = row['label']\n",
    "    img_path = row['path']\n",
    "    img_name = os.path.basename(img_path)\n",
    "    img_path_full = os.path.join(\"structured_data\", img_path)\n",
    "    \n",
    "    try:\n",
    "        # Process the image\n",
    "        img_processed = process_image(img_path_full)\n",
    "        \n",
    "        # Create the directory if it doesn't exist\n",
    "        processed_img_dir = os.path.join(\"cleaned_images\", img_label)\n",
    "        os.makedirs(processed_img_dir, exist_ok=True)\n",
    "        \n",
    "        # Save the processed image\n",
    "        processed_img_path = os.path.join(processed_img_dir, img_name)\n",
    "        cv2.imwrite(processed_img_path, img_processed)\n",
    "    except FileNotFoundError as e:\n",
    "        print(e)\n",
    "    except Exception as e:\n",
    "        print(f\"An error occurred while processing the image {img_name}: {e}\")\n",
    "\n",
    "# Confirm completion\n",
    "print(\"Images have been processed and saved to their respective folders.\")"
   ],
   "outputs": []
  },
  {
   "cell_type": "code",
   "execution_count": null,
   "id": "b68536bb-a5aa-4e4b-b53c-071b51142186",
   "metadata": {},
   "source": [],
   "outputs": []
  }
 ],
 "metadata": {
  "kernelspec": {
   "display_name": "Python 3 (ipykernel)",
   "language": "python",
   "name": "python3"
  },
  "language_info": {
   "codemirror_mode": {
    "name": "ipython",
    "version": 3
   },
   "file_extension": ".py",
   "mimetype": "text/x-python",
   "name": "python",
   "nbconvert_exporter": "python",
   "pygments_lexer": "ipython3",
   "version": "3.9.19"
  }
 },
 "nbformat": 4,
 "nbformat_minor": 5
}
